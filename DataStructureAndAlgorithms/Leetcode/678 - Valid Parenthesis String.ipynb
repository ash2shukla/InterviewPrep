{
 "nbformat": 4,
 "nbformat_minor": 2,
 "metadata": {
  "language_info": {
   "name": "python",
   "codemirror_mode": {
    "name": "ipython",
    "version": 3
   },
   "version": "3.8.2-final"
  },
  "orig_nbformat": 2,
  "file_extension": ".py",
  "mimetype": "text/x-python",
  "name": "python",
  "npconvert_exporter": "python",
  "pygments_lexer": "ipython3",
  "version": 3,
  "kernelspec": {
   "name": "python3",
   "display_name": "Python 3"
  }
 },
 "cells": [
  {
   "cell_type": "markdown",
   "metadata": {},
   "source": [
    "#### Description\n",
    "```\n",
    "Given a string containing only three types of characters: '(', ')' and '*',\n",
    "write a function to check whether this string is valid. We define the validity of a string by these rules:\n",
    "\n",
    "Any left parenthesis '(' must have a corresponding right parenthesis ')'.\n",
    "Any right parenthesis ')' must have a corresponding left parenthesis '('.\n",
    "Left parenthesis '(' must go before the corresponding right parenthesis ')'.\n",
    "'*' could be treated as a single right parenthesis ')' or a single left parenthesis '(' or an empty string.\n",
    "An empty string is also valid.\n",
    "\n",
    "Example 1:\n",
    "Input: \"()\"\n",
    "Output: True\n",
    "\n",
    "Example 2:\n",
    "Input: \"(*)\"\n",
    "Output: True\n",
    "\n",
    "Example 3:\n",
    "Input: \"(*))\"\n",
    "Output: True\n",
    "\n",
    "Note:\n",
    "The string size will be in the range [1, 100].\n",
    "```"
   ]
  },
  {
   "cell_type": "code",
   "execution_count": 1,
   "metadata": {},
   "outputs": [],
   "source": [
    "class Solution:\n",
    "    def checkValidString(self, s: str) -> bool:\n",
    "        open_ = closed_ = 0\n",
    "        for i in range(len(s)):\n",
    "            if s[i] in \"(*\":\n",
    "                open_ += 1\n",
    "            else:\n",
    "                open_ -= 1\n",
    "            if s[-i-1] in \")*\":\n",
    "                closed_ += 1\n",
    "            else:\n",
    "                closed_ -= 1\n",
    "            if open_ < 0 or closed_ < 0:\n",
    "                return False\n",
    "        return True"
   ]
  },
  {
   "cell_type": "code",
   "execution_count": 2,
   "metadata": {},
   "outputs": [
    {
     "output_type": "stream",
     "name": "stdout",
     "text": "all pass\n"
    }
   ],
   "source": [
    "from utils import do_test, test\n",
    "\n",
    "\n",
    "tests = [\n",
    "    test(args=[\"(*)\"], result=True),\n",
    "    test(args=[\"(*))\"], result=True),\n",
    "    test(args=[\"(((**\"], result=False)\n",
    "]\n",
    "\n",
    "do_test(tests, Solution.checkValidString)"
   ]
  }
 ]
}