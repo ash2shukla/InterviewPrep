{
 "nbformat": 4,
 "nbformat_minor": 2,
 "metadata": {
  "language_info": {
   "name": "python",
   "codemirror_mode": {
    "name": "ipython",
    "version": 3
   },
   "version": "3.8.2-final"
  },
  "orig_nbformat": 2,
  "file_extension": ".py",
  "mimetype": "text/x-python",
  "name": "python",
  "npconvert_exporter": "python",
  "pygments_lexer": "ipython3",
  "version": 3,
  "kernelspec": {
   "name": "python3",
   "display_name": "Python 3"
  }
 },
 "cells": [
  {
   "cell_type": "markdown",
   "metadata": {},
   "source": [
    "#### Description\n",
    "```\n",
    "Given the root node of a binary search tree (BST) and a value to be inserted into the tree, insert the value into the BST. Return the root node of the BST after the insertion. It is guaranteed that the new value does not exist in the original BST.\n",
    "\n",
    "Note that there may exist multiple valid ways for the insertion, as long as the tree remains a BST after insertion. You can return any of them.\n",
    "\n",
    "For example, \n",
    "\n",
    "Given the tree:\n",
    "        4\n",
    "       / \\\n",
    "      2   7\n",
    "     / \\\n",
    "    1   3\n",
    "And the value to insert: 5\n",
    "You can return this binary search tree:\n",
    "\n",
    "         4\n",
    "       /   \\\n",
    "      2     7\n",
    "     / \\   /\n",
    "    1   3 5\n",
    "This tree is also valid:\n",
    "\n",
    "         5\n",
    "       /   \\\n",
    "      2     7\n",
    "     / \\   \n",
    "    1   3\n",
    "         \\\n",
    "          4\n",
    "```"
   ]
  },
  {
   "cell_type": "code",
   "execution_count": 1,
   "metadata": {},
   "outputs": [],
   "source": [
    "from utils import TreeNode\n",
    "from typing import *\n",
    "\n",
    "\n",
    "class Solution:\n",
    "    def insertIntoBST(self, root: TreeNode, val: int) -> TreeNode:\n",
    "        root_iter = root\n",
    "        parent_iter = None\n",
    "        while root_iter:\n",
    "            parent_iter = root_iter\n",
    "            if val < root_iter.val:\n",
    "                root_iter = root_iter.left\n",
    "            else:\n",
    "                root_iter = root_iter.right\n",
    "        if val < parent_iter.val:\n",
    "            parent_iter.left = TreeNode(val)\n",
    "        else:\n",
    "            parent_iter.right = TreeNode(val)\n",
    "        return root"
   ]
  },
  {
   "cell_type": "code",
   "execution_count": 3,
   "metadata": {},
   "outputs": [
    {
     "output_type": "stream",
     "name": "stdout",
     "text": "all pass\n"
    }
   ],
   "source": [
    "from utils import do_test, test, create_btree, treenode\n",
    "\n",
    "\n",
    "tests = [\n",
    "    test(\n",
    "        args=[\n",
    "            create_btree(\n",
    "                [\n",
    "                    treenode(value=4, parent_index=None, alignment=None),\n",
    "                    treenode(value=2, parent_index=0, alignment=\"left\"),\n",
    "                    treenode(value=7, parent_index=0, alignment=\"right\"),\n",
    "                    treenode(value=1, parent_index=1, alignment=\"left\"),\n",
    "                    treenode(value=3, parent_index=1, alignment=\"right\")\n",
    "                ]\n",
    "            ),\n",
    "            5\n",
    "        ],\n",
    "        result=[\n",
    "            treenode(value=4, parent_index=None, alignment=None),\n",
    "            treenode(value=2, parent_index=0, alignment=\"left\"),\n",
    "            treenode(value=7, parent_index=0, alignment=\"right\"),\n",
    "            treenode(value=1, parent_index=1, alignment=\"left\"),\n",
    "            treenode(value=3, parent_index=1, alignment=\"right\"),\n",
    "            treenode(value=5, parent_index=2, alignment=\"left\")\n",
    "        ]\n",
    "    )\n",
    "]\n",
    "\n",
    "do_test(tests, Solution.insertIntoBST)"
   ]
  }
 ]
}