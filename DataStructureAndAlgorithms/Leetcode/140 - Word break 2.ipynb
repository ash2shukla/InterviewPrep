{
 "nbformat": 4,
 "nbformat_minor": 2,
 "metadata": {
  "language_info": {
   "name": "python",
   "codemirror_mode": {
    "name": "ipython",
    "version": 3
   },
   "version": "3.8.2-final"
  },
  "orig_nbformat": 2,
  "file_extension": ".py",
  "mimetype": "text/x-python",
  "name": "python",
  "npconvert_exporter": "python",
  "pygments_lexer": "ipython3",
  "version": 3,
  "kernelspec": {
   "name": "python3",
   "display_name": "Python 3"
  }
 },
 "cells": [
  {
   "cell_type": "markdown",
   "metadata": {},
   "source": [
    "#### Description\n",
    "\n",
    "Given a non-empty string s and a dictionary wordDict containing a list of non-empty words, add spaces in s to construct a sentence where each word is a valid dictionary word. Return all such possible sentences.\n",
    "\n",
    "Note:\n",
    "\n",
    "The same word in the dictionary may be reused multiple times in the segmentation.\n",
    "You may assume the dictionary does not contain duplicate words.\n",
    "Example 1:\n",
    "\n",
    "Input:\n",
    "\n",
    "s = \"catsanddog\"\n",
    "\n",
    "wordDict = \\[\"cat\", \"cats\", \"and\", \"sand\", \"dog\"\\]\n",
    "\n",
    "Output:\n",
    "\n",
    "\\[\n",
    "  \"cats and dog\",\n",
    "  \"cat sand dog\"\n",
    "\\]\n",
    "\n",
    "Example 2:\n",
    "\n",
    "Input:\n",
    "\n",
    "s = \"pineapplepenapple\"\n",
    "\n",
    "wordDict = \\[\"apple\", \"pen\", \"applepen\", \"pine\", \"pineapple\"\\]\n",
    "\n",
    "Output:\n",
    "\n",
    "\\[\n",
    "  \"pine apple pen apple\",\n",
    "  \"pineapple pen apple\",\n",
    "  \"pine applepen apple\"\n",
    "\\]\n",
    "\n",
    "Explanation: Note that you are allowed to reuse a dictionary word.\n",
    "\n",
    "Example 3:\n",
    "\n",
    "Input:\n",
    "\n",
    "s = \"catsandog\"\n",
    "\n",
    "wordDict = \\[\"cats\", \"dog\", \"sand\", \"and\", \"cat\"\\]\n",
    "\n",
    "Output:\n",
    "\n",
    "\\[\\]"
   ]
  },
  {
   "cell_type": "code",
   "execution_count": 1,
   "metadata": {},
   "outputs": [],
   "source": [
    "from typing import *\n",
    "\n",
    "class Solution:\n",
    "    def wordBreak(self, s: str, wordDict: List[str]) -> List[str]:\n",
    "        pass"
   ]
  },
  {
   "cell_type": "code",
   "execution_count": 2,
   "metadata": {},
   "outputs": [
    {
     "output_type": "error",
     "ename": "AssertionError",
     "evalue": "Error: ['catsanddog', ['cat', 'cats', 'and', 'sand', 'dog']] Expected ['cats and dog', 'cat sand dog'] : actual None",
     "traceback": [
      "\u001b[1;31m---------------------------------------------------------------------------\u001b[0m",
      "\u001b[1;31mAssertionError\u001b[0m                            Traceback (most recent call last)",
      "\u001b[1;32m<ipython-input-2-18b9bbf6828a>\u001b[0m in \u001b[0;36m<module>\u001b[1;34m\u001b[0m\n\u001b[0;32m     11\u001b[0m ]\n\u001b[0;32m     12\u001b[0m \u001b[1;33m\u001b[0m\u001b[0m\n\u001b[1;32m---> 13\u001b[1;33m \u001b[0mdo_test\u001b[0m\u001b[1;33m(\u001b[0m\u001b[0mtests\u001b[0m\u001b[1;33m,\u001b[0m \u001b[0mSolution\u001b[0m\u001b[1;33m.\u001b[0m\u001b[0mwordBreak\u001b[0m\u001b[1;33m)\u001b[0m\u001b[1;33m\u001b[0m\u001b[1;33m\u001b[0m\u001b[0m\n\u001b[0m",
      "\u001b[1;32mc:\\users\\ash2s\\onedrive\\desktop\\work in progress\\interviewprep\\utils\\utils\\testing.py\u001b[0m in \u001b[0;36mdo_test\u001b[1;34m(tests, func)\u001b[0m\n\u001b[0;32m     23\u001b[0m             \u001b[0munittest\u001b[0m\u001b[1;33m.\u001b[0m\u001b[0mTestCase\u001b[0m\u001b[1;33m(\u001b[0m\u001b[1;33m)\u001b[0m\u001b[1;33m.\u001b[0m\u001b[0massertListEqual\u001b[0m\u001b[1;33m(\u001b[0m\u001b[0mflat_actual\u001b[0m\u001b[1;33m,\u001b[0m \u001b[0mflat_result\u001b[0m\u001b[1;33m)\u001b[0m\u001b[1;33m,\u001b[0m \u001b[1;34mf'Error: {args} Expected {result} : actual {actual_result}'\u001b[0m\u001b[1;33m\u001b[0m\u001b[1;33m\u001b[0m\u001b[0m\n\u001b[0;32m     24\u001b[0m         \u001b[1;32melse\u001b[0m\u001b[1;33m:\u001b[0m\u001b[1;33m\u001b[0m\u001b[1;33m\u001b[0m\u001b[0m\n\u001b[1;32m---> 25\u001b[1;33m             \u001b[1;32massert\u001b[0m \u001b[0mactual_result\u001b[0m \u001b[1;33m==\u001b[0m \u001b[0mresult\u001b[0m\u001b[1;33m,\u001b[0m \u001b[1;34mf'Error: {args} Expected {result} : actual {actual_result}'\u001b[0m\u001b[1;33m\u001b[0m\u001b[1;33m\u001b[0m\u001b[0m\n\u001b[0m\u001b[0;32m     26\u001b[0m     \u001b[1;32melse\u001b[0m\u001b[1;33m:\u001b[0m\u001b[1;33m\u001b[0m\u001b[1;33m\u001b[0m\u001b[0m\n\u001b[0;32m     27\u001b[0m         \u001b[0mprint\u001b[0m\u001b[1;33m(\u001b[0m\u001b[1;34m'all pass'\u001b[0m\u001b[1;33m)\u001b[0m\u001b[1;33m\u001b[0m\u001b[1;33m\u001b[0m\u001b[0m\n",
      "\u001b[1;31mAssertionError\u001b[0m: Error: ['catsanddog', ['cat', 'cats', 'and', 'sand', 'dog']] Expected ['cats and dog', 'cat sand dog'] : actual None"
     ]
    }
   ],
   "source": [
    "from utils import test, do_test\n",
    "\n",
    "\n",
    "tests = [\n",
    "    test([\"catsanddog\", [\"cat\", \"cats\", \"and\", \"sand\", \"dog\"]],\n",
    "        [\n",
    "            \"cats and dog\",\n",
    "            \"cat sand dog\"\n",
    "        ]\n",
    "    )\n",
    "]\n",
    "\n",
    "do_test(tests, Solution.wordBreak)"
   ]
  }
 ]
}