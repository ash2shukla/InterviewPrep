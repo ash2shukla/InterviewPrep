{
 "nbformat": 4,
 "nbformat_minor": 2,
 "metadata": {
  "language_info": {
   "name": "python",
   "codemirror_mode": {
    "name": "ipython",
    "version": 3
   },
   "version": "3.8.2-final"
  },
  "orig_nbformat": 2,
  "file_extension": ".py",
  "mimetype": "text/x-python",
  "name": "python",
  "npconvert_exporter": "python",
  "pygments_lexer": "ipython3",
  "version": 3,
  "kernelspec": {
   "name": "python3",
   "display_name": "Python 3"
  }
 },
 "cells": [
  {
   "cell_type": "markdown",
   "metadata": {},
   "source": [
    "#### Description\n",
    "\n",
    "```\n",
    "Given a 2d grid map of '1's (land) and '0's (water), count the number of islands. An island is surrounded by water and is formed by connecting adjacent lands horizontally or vertically. You may assume all four edges of the grid are all surrounded by water.\n",
    "\n",
    "Example 1:\n",
    "\n",
    "Input:\n",
    "11110\n",
    "11010\n",
    "11000\n",
    "00000\n",
    "\n",
    "Output: 1\n",
    "Example 2:\n",
    "\n",
    "Input:\n",
    "11000\n",
    "11000\n",
    "00100\n",
    "00011\n",
    "\n",
    "Output: 3\n",
    "```"
   ]
  },
  {
   "cell_type": "code",
   "execution_count": 2,
   "metadata": {},
   "outputs": [],
   "source": [
    "from typing import *\n",
    "\n",
    "\n",
    "class Solution:\n",
    "    def numIslands(self, grid: List[List[str]]) -> int:\n",
    "        islands = 0\n",
    "        search_space = set()\n",
    "        result = 0\n",
    "        for i in range(len(grid)):\n",
    "            for j in range(len(grid[i])):\n",
    "                if grid[i][j] == \"1\":\n",
    "                    search_space.add((i, j))\n",
    "\n",
    "        while search_space:\n",
    "            stack = [search_space.pop()]\n",
    "            while stack:\n",
    "                row, col = stack.pop()\n",
    "                if (row, col) in search_space:\n",
    "                    search_space.remove((row, col))\n",
    "                if (row-1, col)  in search_space:\n",
    "                    stack.append((row-1, col))\n",
    "                if (row, col-1)  in search_space:\n",
    "                    stack.append((row, col-1))\n",
    "                if (row+1, col) in search_space:\n",
    "                    stack.append((row+1, col))\n",
    "                if (row, col+1)  in search_space:\n",
    "                    stack.append((row, col+1))\n",
    "            result += 1\n",
    "        return result"
   ]
  },
  {
   "cell_type": "code",
   "execution_count": 5,
   "metadata": {},
   "outputs": [
    {
     "output_type": "stream",
     "name": "stdout",
     "text": "all pass\n"
    }
   ],
   "source": [
    "from utils import test, do_test\n",
    "\n",
    "\n",
    "tests = [\n",
    "    test(args=[\n",
    "        [\n",
    "            [\"1\", \"1\", \"1\", \"1\", \"0\"],\n",
    "            [\"1\", \"1\", \"0\", \"1\", \"0\"],\n",
    "            [\"1\", \"1\", \"0\", \"0\", \"0\"],\n",
    "            [\"0\", \"0\", \"0\", \"0\", \"0\"]\n",
    "        ]\n",
    "    ], result=1),\n",
    "    test(args=[\n",
    "        [\n",
    "            [\"1\"],\n",
    "            [\"1\"]\n",
    "        ]\n",
    "    ], result=1),\n",
    "    test(args=[\n",
    "        [\n",
    "            [\"1\", \"0\", \"1\", \"0\", \"0\"],\n",
    "            [\"0\", \"0\", \"0\", \"1\", \"0\"],\n",
    "            [\"1\", \"1\", \"0\", \"0\", \"0\"],\n",
    "            [\"0\", \"0\", \"0\", \"0\", \"0\"]\n",
    "        ]\n",
    "    ], result=4),\n",
    "]\n",
    "\n",
    "do_test(tests, Solution.numIslands)"
   ]
  }
 ]
}