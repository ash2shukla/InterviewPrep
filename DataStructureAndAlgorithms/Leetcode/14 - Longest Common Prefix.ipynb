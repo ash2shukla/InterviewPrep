{
 "cells": [
  {
   "cell_type": "markdown",
   "metadata": {},
   "source": [
    "#### Description\n",
    "\n",
    "Write a function to find the longest common prefix string amongst an array of strings.\n",
    "\n",
    "If there is no common prefix, return an empty string \"\".\n",
    "\n",
    "Example 1:\n",
    "\n",
    "Input: [\"flower\",\"flow\",\"flight\"]\n",
    "Output: \"fl\"\n",
    "Example 2:\n",
    "\n",
    "Input: [\"dog\",\"racecar\",\"car\"]\n",
    "Output: \"\"\n",
    "Explanation: There is no common prefix among the input strings."
   ]
  },
  {
   "cell_type": "code",
   "execution_count": 1,
   "metadata": {},
   "outputs": [
    {
     "output_type": "execute_result",
     "data": {
      "text/plain": "'fl'"
     },
     "metadata": {},
     "execution_count": 1
    }
   ],
   "source": [
    "from typing import *\n",
    "\n",
    "\n",
    "class Solution:\n",
    "    def longestCommonPrefix(self, strs: List[str]) -> str:\n",
    "        if not strs:\n",
    "            return \"\"\n",
    "        i = 0\n",
    "        min_len = min([len(string) for string in strs]) if strs else 0\n",
    "        while i<min_len:\n",
    "            current_char = strs[0][i]\n",
    "            if not all(string[i] == current_char for string in strs):\n",
    "                break\n",
    "            i += 1\n",
    "        return strs[0][:i]\n",
    "\n",
    "Solution().longestCommonPrefix([\"flower\", \"flow\", \"flight\"])"
   ]
  },
  {
   "cell_type": "code",
   "execution_count": 2,
   "metadata": {},
   "outputs": [
    {
     "output_type": "stream",
     "name": "stdout",
     "text": "all pass\n"
    }
   ],
   "source": [
    "from utils import test, do_test\n",
    "\n",
    "tests = [\n",
    "    test(args=[[\"flower\", \"flow\", \"flight\"]], result=\"fl\"),\n",
    "    test(args=[[\"flower\", \"fower\", \"fever\"]], result=\"f\"),\n",
    "    test(args=[[\"flower\", \"flow\", \"\"]], result=\"\"),\n",
    "    test(args=[[\"\", \"\", \"\"]], result=\"\"),\n",
    "    test(args=[[]], result=\"\")\n",
    "]\n",
    "\n",
    "do_test(tests, Solution.longestCommonPrefix)"
   ]
  }
 ],
 "metadata": {
  "kernelspec": {
   "display_name": "Python 3",
   "language": "python",
   "name": "python3"
  },
  "language_info": {
   "codemirror_mode": {
    "name": "ipython",
    "version": 3
   },
   "file_extension": ".py",
   "mimetype": "text/x-python",
   "name": "python",
   "nbconvert_exporter": "python",
   "pygments_lexer": "ipython3",
   "version": "3.8.2-final"
  }
 },
 "nbformat": 4,
 "nbformat_minor": 4
}