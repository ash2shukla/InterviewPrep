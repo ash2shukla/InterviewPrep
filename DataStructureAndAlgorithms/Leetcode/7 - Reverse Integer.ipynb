{
 "cells": [
  {
   "cell_type": "markdown",
   "metadata": {},
   "source": [
    "#### Description\n",
    "Given a 32-bit signed integer, reverse digits of an integer.\n",
    "\n",
    "Example 1:\n",
    "\n",
    "Input: 123\n",
    "Output: 321\n",
    "Example 2:\n",
    "\n",
    "Input: -123\n",
    "Output: -321\n",
    "Example 3:\n",
    "\n",
    "Input: 120\n",
    "Output: 21\n",
    "Note:\n",
    "Assume we are dealing with an environment which could only store integers within the 32-bit signed integer range: \\[−2^31,  2^31 − 1\\]. For the purpose of this problem, assume that your function returns 0 when the reversed integer overflows."
   ]
  },
  {
   "cell_type": "code",
   "execution_count": 1,
   "metadata": {},
   "outputs": [],
   "source": [
    "class Solution:\n",
    "    def reverse(self, x: int) -> int:\n",
    "        MAX = 2**31 -1\n",
    "        MIN = -(2**31)\n",
    "        \n",
    "        x, sign = (-x, -1) if x < 0 else (x, 1)\n",
    "\n",
    "        return_value = 0\n",
    "\n",
    "        while x > 0:\n",
    "            residue = x % 10\n",
    "            x //= 10\n",
    "            return_value = return_value * 10 + residue\n",
    "            if return_value > MAX or return_value < MIN:\n",
    "                return 0\n",
    "        return return_value * sign"
   ]
  },
  {
   "cell_type": "markdown",
   "metadata": {},
   "source": [
    "#### Complexity\n",
    "O(log( n ) ) ( base 10 ) - as the loop executes = number of digits which is roughly equal to log( number )\n",
    "\n",
    "The solution above gives correct answer in python but it is flawed as return_value will exceed if the integer is 32 bit resulting in overflow. So we need to perform the check for overflow without computing return_value\n",
    "\n",
    "lets say our upper bound is 123\\\n",
    "(A number * 10 + something can only exceed 123 if\\\n",
    "the number is 12 and *something* is greater than 3 OR\\\n",
    "if number is greater than all but last digit of upper bound\n",
    "\n",
    "so the logic being\n",
    "\n",
    "```python\n",
    "if ( number > UPPER//10 ) or ( number == UPPER and something > UPPER%10 )\n",
    "```\n",
    "then it will exceed UPPER\n",
    "\n",
    "Similarly lets say our lower bound is -123\\\n",
    "-ve of (A number * 10 + something) can only be below 123 if\\\n",
    "the number is 12 and something is greater than 3 OR\\\n",
    "if number is greater than all but last digit of lower bound\\\n",
    "\n",
    "\n",
    "So the logic being\n",
    "\n",
    "```python\n",
    "if ( number > LOWER//10 ) or ( number == LOWER and something > LOWER%10 )\n",
    "\n",
    "# or if we want to take the negative sign inside ie. - A number  * 10  + - something\n",
    "if ( number < LOWER//10 ) or ( number == LOWER and something < LOWER%10 )\n",
    "```\n",
    "\n"
   ]
  },
  {
   "cell_type": "code",
   "execution_count": 2,
   "metadata": {},
   "outputs": [
    {
     "output_type": "stream",
     "name": "stdout",
     "text": "all pass\n"
    }
   ],
   "source": [
    "from utils import test, do_test\n",
    "\n",
    "\n",
    "tests = [\n",
    "    test(args=[123], result=321),\n",
    "    test(args=[0], result=0),\n",
    "    test(args=[-123], result=-321),\n",
    "    test(args=[2**31], result=0),\n",
    "    test(args=[7463847412], result=2**31-1)\n",
    "]\n",
    "\n",
    "do_test(tests, Solution.reverse)"
   ]
  },
  {
   "cell_type": "markdown",
   "metadata": {},
   "source": []
  }
 ],
 "metadata": {
  "kernelspec": {
   "display_name": "Python 3",
   "language": "python",
   "name": "python3"
  },
  "language_info": {
   "codemirror_mode": {
    "name": "ipython",
    "version": 3
   },
   "file_extension": ".py",
   "mimetype": "text/x-python",
   "name": "python",
   "nbconvert_exporter": "python",
   "pygments_lexer": "ipython3",
   "version": "3.8.2-final"
  }
 },
 "nbformat": 4,
 "nbformat_minor": 4
}