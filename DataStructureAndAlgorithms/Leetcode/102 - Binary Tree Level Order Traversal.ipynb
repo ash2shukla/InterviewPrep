{
 "nbformat": 4,
 "nbformat_minor": 2,
 "metadata": {
  "language_info": {
   "name": "python",
   "codemirror_mode": {
    "name": "ipython",
    "version": 3
   },
   "version": "3.8.2-final"
  },
  "orig_nbformat": 2,
  "file_extension": ".py",
  "mimetype": "text/x-python",
  "name": "python",
  "npconvert_exporter": "python",
  "pygments_lexer": "ipython3",
  "version": 3,
  "kernelspec": {
   "name": "python3",
   "display_name": "Python 3"
  }
 },
 "cells": [
  {
   "cell_type": "markdown",
   "metadata": {},
   "source": [
    "#### Description\n",
    "```\n",
    "Given a binary tree, return the level order traversal of its nodes' values. (ie, from left to right, level by level).\n",
    "\n",
    "For example:\n",
    "Given binary tree [3,9,20,null,null,15,7],\n",
    "    3\n",
    "   / \\\n",
    "  9  20\n",
    "    /  \\\n",
    "   15   7\n",
    "return its level order traversal as:\n",
    "[\n",
    "  [3],\n",
    "  [9,20],\n",
    "  [15,7]\n",
    "]\n",
    "```"
   ]
  },
  {
   "cell_type": "code",
   "execution_count": 2,
   "metadata": {},
   "outputs": [],
   "source": [
    "from utils import TreeNode\n",
    "from typing import *\n",
    "\n",
    "from collections import defaultdict\n",
    "\n",
    "\n",
    "class Solution:\n",
    "    def levelOrder(self, root: TreeNode) -> List[List[int]]:\n",
    "        if not root:\n",
    "            return []\n",
    "        levels = defaultdict(list)\n",
    "        queue = [(root, 0)]\n",
    "        \n",
    "        while queue:\n",
    "            deqd, level = queue.pop(0)\n",
    "            levels[level].append(deqd.val)\n",
    "            if deqd.left:\n",
    "                queue.append((deqd.left, level+1))\n",
    "            if deqd.right:\n",
    "                queue.append((deqd.right, level+1))\n",
    "        return list(levels.values())"
   ]
  },
  {
   "cell_type": "code",
   "execution_count": 9,
   "metadata": {},
   "outputs": [
    {
     "output_type": "stream",
     "name": "stdout",
     "text": "all pass\n"
    }
   ],
   "source": [
    "from utils import do_test, test, create_btree, treenode\n",
    "\n",
    "tests = [\n",
    "    test(\n",
    "        args=[\n",
    "            create_btree([\n",
    "                treenode(value=3, parent_index=-1, alignment=None),\n",
    "                treenode(value=9, parent_index=0, alignment='left'),\n",
    "                treenode(value=20, parent_index=0, alignment='right'),\n",
    "                treenode(value=15, parent_index=2, alignment='left'),\n",
    "                treenode(value=7, parent_index=2, alignment='right')\n",
    "            ])\n",
    "        ],\n",
    "        result=[\n",
    "            [3],\n",
    "            [9,20],\n",
    "            [15,7]\n",
    "        ] \n",
    "        \n",
    "    )\n",
    "]\n",
    "\n",
    "do_test(tests, Solution.levelOrder)"
   ]
  }
 ]
}