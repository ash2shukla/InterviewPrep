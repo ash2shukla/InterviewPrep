{
 "nbformat": 4,
 "nbformat_minor": 2,
 "metadata": {
  "language_info": {
   "name": "python",
   "codemirror_mode": {
    "name": "ipython",
    "version": 3
   }
  },
  "orig_nbformat": 2,
  "file_extension": ".py",
  "mimetype": "text/x-python",
  "name": "python",
  "npconvert_exporter": "python",
  "pygments_lexer": "ipython3",
  "version": 3
 },
 "cells": [
  {
   "cell_type": "markdown",
   "metadata": {},
   "source": [
    "#### Description\n",
    "\n",
    "Given an array nums of n integers where n > 1,  return an array output such that output\\[i\\] is equal to the product of all the elements of nums except nums\\[i\\].\n",
    "\n",
    "Example:\n",
    "\n",
    "Input:  \\[1,2,3,4\\]\n",
    "Output: \\[24,12,8,6\\]\n",
    "\n",
    "Constraint: It's guaranteed that the product of the elements of any prefix or suffix of the array (including the whole array) fits in a 32 bit integer.\n",
    "\n",
    "Note: Please solve it without division and in O(n).\n",
    "\n",
    "Follow up:\n",
    "Could you solve it with constant space complexity? (The output array does not count as extra space for the purpose of space complexity analysis.)"
   ]
  },
  {
   "cell_type": "code",
   "execution_count": null,
   "metadata": {},
   "outputs": [],
   "source": [
    "from tying import *\n",
    "\n",
    "class Solution:\n",
    "    def productExceptSelf(self, nums: List[int]) -> List[int]:\n",
    "        temp = 1\n",
    "        output = [1]\n",
    "\n",
    "        for i in range(1,len(nums)):\n",
    "            temp*=nums[i]\n",
    "            output.append(temp)\n",
    "        temp=1\n",
    "\n",
    "        for i in range(len(nums)-1,-1,-1):\n",
    "            output[i]*=temp\n",
    "            temp*=nums[i]\n",
    "            \n",
    "        return output"
   ]
  }
 ]
}