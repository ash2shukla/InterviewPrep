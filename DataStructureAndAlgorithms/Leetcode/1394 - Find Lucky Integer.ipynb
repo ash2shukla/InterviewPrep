{
 "nbformat": 4,
 "nbformat_minor": 2,
 "metadata": {
  "language_info": {
   "name": "python",
   "codemirror_mode": {
    "name": "ipython",
    "version": 3
   },
   "version": "3.6.10-final"
  },
  "orig_nbformat": 2,
  "file_extension": ".py",
  "mimetype": "text/x-python",
  "name": "python",
  "npconvert_exporter": "python",
  "pygments_lexer": "ipython3",
  "version": 3,
  "kernelspec": {
   "name": "python3",
   "display_name": "Python 3"
  }
 },
 "cells": [
  {
   "cell_type": "markdown",
   "metadata": {},
   "source": [
    "#### Description\n",
    "```\n",
    "Given an array of integers arr, a lucky integer is an integer which has a frequency in the array equal to its value.\n",
    "\n",
    "Return a lucky integer in the array. If there are multiple lucky integers return the largest of them. If there is no lucky integer return -1.\n",
    "\n",
    " \n",
    "\n",
    "Example 1:\n",
    "\n",
    "Input: arr = [2,2,3,4]\n",
    "Output: 2\n",
    "Explanation: The only lucky number in the array is 2 because frequency[2] == 2.\n",
    "Example 2:\n",
    "\n",
    "Input: arr = [1,2,2,3,3,3]\n",
    "Output: 3\n",
    "Explanation: 1, 2 and 3 are all lucky numbers, return the largest of them.\n",
    "Example 3:\n",
    "\n",
    "Input: arr = [2,2,2,3,3]\n",
    "Output: -1\n",
    "Explanation: There are no lucky numbers in the array.\n",
    "Example 4:\n",
    "\n",
    "Input: arr = [5]\n",
    "Output: -1\n",
    "Example 5:\n",
    "\n",
    "Input: arr = [7,7,7,7,7,7,7]\n",
    "Output: 7\n",
    " \n",
    "\n",
    "Constraints:\n",
    "\n",
    "1 <= arr.length <= 500\n",
    "1 <= arr[i] <= 500\n",
    "```"
   ]
  },
  {
   "cell_type": "code",
   "execution_count": 4,
   "metadata": {},
   "outputs": [],
   "source": [
    "from typing import *\n",
    "\n",
    "\n",
    "class Solution:\n",
    "    def findLucky(self, arr: List[int]) -> int:\n",
    "        freqs = {}\n",
    "        for num in arr:\n",
    "            if num in freqs:\n",
    "                freqs[num] += 1\n",
    "            else:\n",
    "                freqs[num] = 1\n",
    "        result = -1\n",
    "        for num, freq in freqs.items():\n",
    "            if num == freq:\n",
    "                result = max(result, num)\n",
    "        return result"
   ]
  },
  {
   "cell_type": "code",
   "execution_count": 7,
   "metadata": {},
   "outputs": [
    {
     "output_type": "stream",
     "name": "stdout",
     "text": "all pass\n"
    }
   ],
   "source": [
    "from utils import do_test, test\n",
    "\n",
    "\n",
    "tests = [\n",
    "    test(args=[[2,2,3,4]], result=2),\n",
    "    test(args=[[5]], result=-1)\n",
    "]\n",
    "\n",
    "do_test(tests, Solution.findLucky)"
   ]
  }
 ]
}