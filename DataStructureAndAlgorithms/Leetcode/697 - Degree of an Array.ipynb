{
 "nbformat": 4,
 "nbformat_minor": 2,
 "metadata": {
  "language_info": {
   "name": "python",
   "codemirror_mode": {
    "name": "ipython",
    "version": 3
   },
   "version": "3.6.10-final"
  },
  "orig_nbformat": 2,
  "file_extension": ".py",
  "mimetype": "text/x-python",
  "name": "python",
  "npconvert_exporter": "python",
  "pygments_lexer": "ipython3",
  "version": 3,
  "kernelspec": {
   "name": "python3",
   "display_name": "Python 3"
  }
 },
 "cells": [
  {
   "cell_type": "markdown",
   "metadata": {},
   "source": [
    "#### Description\n",
    "\n",
    "Given a non-empty array of non-negative integers nums, the degree of this array is defined as the maximum frequency of any one of its elements.\n",
    "\n",
    "Your task is to find the smallest possible length of a (contiguous) subarray of nums, that has the same degree as nums.\n",
    "\n",
    "Example 1:\n",
    "Input: \\[1, 2, 2, 3, 1\\]\n",
    "Output: 2\n",
    "Explanation: \n",
    "The input array has a degree of 2 because both elements 1 and 2 appear twice.\n",
    "Of the subarrays that have the same degree:\n",
    "\\[1, 2, 2, 3, 1\\], \\[1, 2, 2, 3\\], \\[2, 2, 3, 1\\], \\[1, 2, 2\\], \\[2, 2, 3\\], \\[2, 2\\]\n",
    "The shortest length is 2. So return 2.\n",
    "Example 2:\n",
    "Input: \\[1,2,2,3,1,4,2\\]\n",
    "Output: 6\n",
    "Note:\n",
    "\n",
    "nums.length will be between 1 and 50,000.\n",
    "nums\\[i\\] will be an integer between 0 and 49,999."
   ]
  },
  {
   "cell_type": "code",
   "execution_count": 1,
   "metadata": {},
   "outputs": [],
   "source": [
    "from typing import *\n",
    "\n",
    "class Solution:\n",
    "    def findShortestSubArray(self, nums: List[int]) -> int:\n",
    "        if len(nums)<2:\n",
    "            return 1\n",
    "        \n",
    "        count = {}\n",
    "        degree =1\n",
    "        \n",
    "        for i in nums:\n",
    "            if i in count:\n",
    "                count[i]+=1\n",
    "            else:\n",
    "                count[i]=1\n",
    "            if count[i]>degree:\n",
    "                degree = count[i]\n",
    "        \n",
    "        repeat = [key for key, val in count.items() if val == degree]\n",
    "        \n",
    "        start = 0\n",
    "        end = 0\n",
    "        subar_len = 0\n",
    "        min_len=float('inf')\n",
    "        for rep in repeat:\n",
    "            for i in range(0, len(nums)):\n",
    "                if rep == nums[i]:\n",
    "                    start = i\n",
    "                    break\n",
    "            for i in range(len(nums)-1,-1,-1):\n",
    "                if rep == nums[i]:\n",
    "                    end = i\n",
    "                    break\n",
    "            subarr_len = end-start +1\n",
    "            if min_len> subarr_len:\n",
    "                min_len = subarr_len\n",
    "        return min_len\n",
    "                "
   ]
  },
  {
   "cell_type": "code",
   "execution_count": 2,
   "metadata": {},
   "outputs": [
    {
     "output_type": "stream",
     "name": "stdout",
     "text": "all pass\n"
    }
   ],
   "source": [
    "from utils import test, do_test\n",
    "\n",
    "tests = [\n",
    "    test([[1,1,2,2,3,4,1,2]],6),\n",
    "    test([[1]],1),\n",
    "    test([[1,2,2,3,4,1,2]],6),\n",
    "]\n",
    "\n",
    "do_test(tests, Solution.findShortestSubArray)"
   ]
  }
 ]
}