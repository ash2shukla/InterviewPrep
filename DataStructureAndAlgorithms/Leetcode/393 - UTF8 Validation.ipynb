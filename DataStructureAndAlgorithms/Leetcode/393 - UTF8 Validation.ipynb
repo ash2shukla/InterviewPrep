{
 "nbformat": 4,
 "nbformat_minor": 2,
 "metadata": {
  "language_info": {
   "name": "python",
   "codemirror_mode": {
    "name": "ipython",
    "version": 3
   },
   "version": "3.6.10-final"
  },
  "orig_nbformat": 2,
  "file_extension": ".py",
  "mimetype": "text/x-python",
  "name": "python",
  "npconvert_exporter": "python",
  "pygments_lexer": "ipython3",
  "version": 3,
  "kernelspec": {
   "name": "python3",
   "display_name": "Python 3"
  }
 },
 "cells": [
  {
   "cell_type": "markdown",
   "metadata": {},
   "source": [
    "A character in UTF8 can be from 1 to 4 bytes long, subjected to the following rules:\n",
    "\n",
    "For 1-byte character, the first bit is a 0, followed by its unicode code.\n",
    "\n",
    "For n-bytes character, the first n-bits are all one's, the n+1 bit is 0, followed by n-1 bytes with most significant 2 bits being 10.\n",
    "\n",
    "This is how the UTF-8 encoding would work:\n",
    "\n",
    "   Char. number range  |        UTF-8 octet sequence\n",
    "\n",
    "      (hexadecimal)    |              (binary)\n",
    "\n",
    "   --------------------+---------------------------------------------\n",
    "   0000 0000-0000 007F | 0xxxxxxx\n",
    "\n",
    "   0000 0080-0000 07FF | 110xxxxx 10xxxxxx\n",
    "\n",
    "   0000 0800-0000 FFFF | 1110xxxx 10xxxxxx 10xxxxxx\n",
    "\n",
    "   0001 0000-0010 FFFF | 11110xxx 10xxxxxx 10xxxxxx 10xxxxxx\n",
    "\n",
    "Given an array of integers representing the data, return whether it is a valid utf-8 encoding.\n",
    "\n",
    "Note:\n",
    "\n",
    "The input is an array of integers. Only the least significant 8 bits of each integer is used to store the data. This means each integer represents only 1 byte of data.\n",
    "\n",
    "Example 1:\n",
    "\n",
    "data = \\[197, 130, 1\\], which represents the octet sequence: ```11000101 10000010 00000001```.\n",
    "\n",
    "Return true.\n",
    "\n",
    "It is a valid utf-8 encoding for a 2-bytes character followed by a 1-byte character.\n",
    "\n",
    "Example 2:\n",
    "\n",
    "data = \\[235, 140, 4\\], which represented the octet sequence: ```11101011 10001100 00000100```.\n",
    "\n",
    "Return false.\n",
    "\n",
    "The first 3 bits are all one's and the 4th bit is 0 means it is a 3-bytes character.\n",
    "\n",
    "The next byte is a continuation byte which starts with 10 and that's correct.\n",
    "\n",
    "But the second continuation byte does not start with 10, so it is invalid."
   ]
  },
  {
   "cell_type": "code",
   "execution_count": 58,
   "metadata": {},
   "outputs": [],
   "source": [
    "from typing import *\n",
    "\n",
    "\n",
    "class Solution:\n",
    "    def validUtf8(self, nums: List[int]) -> bool:\n",
    "        i = 0\n",
    "        while i < len(nums):\n",
    "            first_byte = nums[i]\n",
    "            if first_byte & 0b10000000 == 0b0:\n",
    "                i += 1\n",
    "            elif first_byte & 0b11100000 == 0b11000000:\n",
    "                try:\n",
    "                    if nums[i+1] & 0b11000000 == 0b10000000:\n",
    "                        i += 2\n",
    "                    else:\n",
    "                        return False\n",
    "                except IndexError:\n",
    "                    return False\n",
    "            elif first_byte & 0b11110000 == 0b11100000:\n",
    "                try:\n",
    "                    if nums[i+1] & 0b11000000 == 0b10000000 and nums[i+2] & 0b11000000 == 0b10000000:\n",
    "                        i += 3\n",
    "                    else:\n",
    "                        return False\n",
    "                except IndexError:\n",
    "                    return False\n",
    "            elif first_byte & 0b11111000 == 0b11110000:\n",
    "                try:\n",
    "                    if nums[i+1] & 0b11000000 == 0b10000000 and nums[i+2] & 0b11000000 == 0b10000000 and nums[i+3] & 0b11000000 == 0b10000000:\n",
    "                        i += 4\n",
    "                    else:\n",
    "                        return False\n",
    "                except IndexError:\n",
    "                    return False\n",
    "            else:\n",
    "                return False\n",
    "        return True"
   ]
  },
  {
   "cell_type": "code",
   "execution_count": 56,
   "metadata": {},
   "outputs": [
    {
     "output_type": "stream",
     "name": "stdout",
     "text": "all pass\n"
    }
   ],
   "source": [
    "from utils import do_test, test\n",
    "\n",
    "\n",
    "tests = [\n",
    "    test(args=[[197, 130, 1]], result=True)\n",
    "]\n",
    "\n",
    "do_test(tests, Solution.validUtf8)"
   ]
  }
 ]
}