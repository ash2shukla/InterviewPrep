{
 "nbformat": 4,
 "nbformat_minor": 2,
 "metadata": {
  "language_info": {
   "name": "python",
   "codemirror_mode": {
    "name": "ipython",
    "version": 3
   },
   "version": "3.8.2-final"
  },
  "orig_nbformat": 2,
  "file_extension": ".py",
  "mimetype": "text/x-python",
  "name": "python",
  "npconvert_exporter": "python",
  "pygments_lexer": "ipython3",
  "version": 3,
  "kernelspec": {
   "name": "python3",
   "display_name": "Python 3"
  }
 },
 "cells": [
  {
   "cell_type": "markdown",
   "metadata": {},
   "source": [
    "#### Description\n",
    "\n",
    "Given an integer array nums, find the contiguous subarray (containing at least one number) which has the largest sum and return its sum.\n",
    "\n",
    "Example:\n",
    "\n",
    "Input: \\[-2,1,-3,4,-1,2,1,-5,4\\],\n",
    "\n",
    "Output: 6\n",
    "\n",
    "Explanation: \\[4,-1,2,1\\] has the largest sum = 6.\n",
    "\n",
    "Follow up:\n",
    "\n",
    "If you have figured out the O(n) solution, try coding another solution using the divide and conquer approach, which is more subtle."
   ]
  },
  {
   "cell_type": "code",
   "execution_count": 2,
   "metadata": {},
   "outputs": [],
   "source": [
    "from typing import *\n",
    "\n",
    "\n",
    "class Solution:\n",
    "    def maxSubArray(self, nums: List[int]) -> int:\n",
    "        max_global = max_current = nums[0]\n",
    "\n",
    "        for num in nums[1:]:\n",
    "            if max_current < 0:\n",
    "                max_current = max(max_current, num)\n",
    "            else:\n",
    "                max_current += num\n",
    "            max_global = max(max_global, max_current)\n",
    "        return max_global"
   ]
  },
  {
   "cell_type": "code",
   "execution_count": 3,
   "metadata": {},
   "outputs": [
    {
     "output_type": "stream",
     "name": "stdout",
     "text": "all pass\n"
    }
   ],
   "source": [
    "from utils import test, do_test\n",
    "\n",
    "\n",
    "tests = [\n",
    "    test(args=[[-2, -1, -3, 4, -1, 2, 1, -5, 4]], result=6),\n",
    "    test(args=[[0]], result=0),\n",
    "    test(args=[[-1, -2, -3, -4]], result=-1)\n",
    "]\n",
    "\n",
    "do_test(tests, Solution.maxSubArray)"
   ]
  }
 ]
}