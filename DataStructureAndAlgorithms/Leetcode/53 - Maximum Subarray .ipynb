{
 "nbformat": 4,
 "nbformat_minor": 2,
 "metadata": {
  "language_info": {
   "name": "python",
   "codemirror_mode": {
    "name": "ipython",
    "version": 3
   }
  },
  "orig_nbformat": 2,
  "file_extension": ".py",
  "mimetype": "text/x-python",
  "name": "python",
  "npconvert_exporter": "python",
  "pygments_lexer": "ipython3",
  "version": 3
 },
 "cells": [
  {
   "cell_type": "markdown",
   "metadata": {},
   "source": [
    "#### Description\n",
    "\n",
    "Given an integer array nums, find the contiguous subarray (containing at least one number) which has the largest sum and return its sum.\n",
    "\n",
    "Example:\n",
    "\n",
    "Input: \\[-2,1,-3,4,-1,2,1,-5,4\\],\n",
    "\n",
    "Output: 6\n",
    "\n",
    "Explanation: \\[4,-1,2,1\\] has the largest sum = 6.\n",
    "\n",
    "Follow up:\n",
    "\n",
    "If you have figured out the O(n) solution, try coding another solution using the divide and conquer approach, which is more subtle."
   ]
  },
  {
   "cell_type": "code",
   "execution_count": null,
   "metadata": {},
   "outputs": [],
   "source": [
    "class Solution:\n",
    "    def maxSubArray(self, nums: List[int]) -> int:\n",
    "        "
   ]
  },
  {
   "cell_type": "code",
   "execution_count": null,
   "metadata": {},
   "outputs": [],
   "source": [
    "import sys, os\n",
    "\n",
    "utils_path = os.path.abspath(os.path.join(os.path.curdir, '..', '..'))\n",
    "sys.path.append(utils_path)\n",
    "\n",
    "from utils import test, do_test\n",
    "\n",
    "\n",
    "tests = [\n",
    "    test(args=[123], result=321),\n",
    "    test(args=[0], result=0),\n",
    "    test(args=[-123], result=-321),\n",
    "    test(args=[2**31], result=0),\n",
    "    test(args=[7463847412], result=2**31-1)\n",
    "]\n",
    "\n",
    "do_test(tests, Solution.reverse)"
   ]
  }
 ]
}