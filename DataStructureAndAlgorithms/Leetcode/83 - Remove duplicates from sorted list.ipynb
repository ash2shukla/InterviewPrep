{
 "nbformat": 4,
 "nbformat_minor": 2,
 "metadata": {
  "language_info": {
   "name": "python",
   "codemirror_mode": {
    "name": "ipython",
    "version": 3
   },
   "version": "3.6.10-final"
  },
  "orig_nbformat": 2,
  "file_extension": ".py",
  "mimetype": "text/x-python",
  "name": "python",
  "npconvert_exporter": "python",
  "pygments_lexer": "ipython3",
  "version": 3,
  "kernelspec": {
   "name": "python3",
   "display_name": "Python 3"
  }
 },
 "cells": [
  {
   "cell_type": "markdown",
   "metadata": {},
   "source": [
    "#### Description\n",
    "\n",
    "Given a sorted linked list, delete all duplicates such that each element appear only once.\n",
    "\n",
    "Example 1:\n",
    "\n",
    "Input: 1->1->2\n",
    "\n",
    "Output: 1->2\n",
    "\n",
    "Example 2:\n",
    "\n",
    "Input: 1->1->2->3->3\n",
    "\n",
    "Output: 1->2->3"
   ]
  },
  {
   "cell_type": "code",
   "execution_count": 1,
   "metadata": {},
   "outputs": [],
   "source": [
    "from utils import ListNode\n",
    "from typing import *\n",
    "\n",
    "\n",
    "class Solution:\n",
    "    def removeRepeated(self, head: ListNode) -> ListNode:\n",
    "        # if the list is empty ie. head is None\n",
    "        if not head:\n",
    "            return []\n",
    "\n",
    "        iter_head = head\n",
    "        while iter_head:\n",
    "            repeated_iter = iter_head.next\n",
    "            while repeated_iter and repeated_iter.val == iter_head.val:\n",
    "                repeated_iter = repeated_iter.next\n",
    "            iter_head.next = repeated_iter\n",
    "            iter_head = iter_head.next\n",
    "        return head"
   ]
  },
  {
   "cell_type": "code",
   "execution_count": 2,
   "metadata": {},
   "outputs": [
    {
     "output_type": "stream",
     "name": "stdout",
     "text": "all pass\n"
    }
   ],
   "source": [
    "from utils import do_test,  test, create_ll\n",
    "\n",
    "tests = [\n",
    "    test(args=[create_ll([1, 1, 1, 1, 1, 2, 2, 3, 3, 3, 4, 4, 4, 4])], result=[1, 2, 3, 4]),\n",
    "    test(args=[create_ll([1, 2, 3, 4])], result=[1, 2, 3, 4]),\n",
    "    test(args=[create_ll([1])], result=[1]),\n",
    "    test(args=[create_ll([1, 1, 1, 1, 1])], result=[1]),\n",
    "    test(args=[create_ll([])], result=[]),\n",
    "]\n",
    "\n",
    "do_test(tests, Solution.removeRepeated)"
   ]
  }
 ]
}