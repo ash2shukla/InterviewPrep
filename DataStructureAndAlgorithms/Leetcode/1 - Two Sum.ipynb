{
 "nbformat": 4,
 "nbformat_minor": 2,
 "metadata": {
  "language_info": {
   "name": "python",
   "codemirror_mode": {
    "name": "ipython",
    "version": 3
   },
   "version": "3.8.2-final"
  },
  "orig_nbformat": 2,
  "file_extension": ".py",
  "mimetype": "text/x-python",
  "name": "python",
  "npconvert_exporter": "python",
  "pygments_lexer": "ipython3",
  "version": 3,
  "kernelspec": {
   "name": "python3",
   "display_name": "Python 3"
  }
 },
 "cells": [
  {
   "cell_type": "markdown",
   "metadata": {},
   "source": [
    "#### Description\n",
    "\n",
    "Given an array of integers, return indices of the two numbers such that they add up to a specific target.\n",
    "\n",
    "You may assume that each input would have exactly one solution, and you may not use the same element twice.\n",
    "\n",
    "return (-1, -1) if no such pair can be found.\n",
    "\n",
    "Example:\n",
    "\n",
    "Given nums = \\[2, 7, 11, 15\\], target = 9,\n",
    "\n",
    "Because nums\\[0\\] + nums\\[1\\] = 2 + 7 = 9,\n",
    "\n",
    "return \\[0, 1\\]."
   ]
  },
  {
   "cell_type": "code",
   "execution_count": 14,
   "metadata": {},
   "outputs": [],
   "source": [
    "from typing import *\n",
    "\n",
    "\n",
    "class Solution:\n",
    "    def twoSum(self, nums: List[int], target: int) -> List[int]:\n",
    "        seen = {}\n",
    "        for idx, num in enumerate(nums):\n",
    "            if (target - num) in seen:\n",
    "                return (seen[target-num], idx)\n",
    "            else:\n",
    "                seen[num] = idx\n",
    "        return (-1, -1)"
   ]
  },
  {
   "cell_type": "code",
   "execution_count": 18,
   "metadata": {},
   "outputs": [
    {
     "output_type": "stream",
     "name": "stdout",
     "text": "all pass\n"
    }
   ],
   "source": [
    "from utils import do_test, test\n",
    "\n",
    "tests = [\n",
    "    test([[2, 7, 11, 15], 9], (0, 1)),\n",
    "    test([[2], 2], (-1, -1)),\n",
    "    test([[2, 7, 11, 15], 17], (0, 3))\n",
    "]\n",
    "\n",
    "do_test(tests, Solution.twoSum)"
   ]
  }
 ]
}