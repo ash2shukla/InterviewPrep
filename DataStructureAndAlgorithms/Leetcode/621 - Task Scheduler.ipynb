{
 "nbformat": 4,
 "nbformat_minor": 2,
 "metadata": {
  "language_info": {
   "name": "python",
   "codemirror_mode": {
    "name": "ipython",
    "version": 3
   },
   "version": "3.6.10-final"
  },
  "orig_nbformat": 2,
  "file_extension": ".py",
  "mimetype": "text/x-python",
  "name": "python",
  "npconvert_exporter": "python",
  "pygments_lexer": "ipython3",
  "version": 3,
  "kernelspec": {
   "name": "python3",
   "display_name": "Python 3"
  }
 },
 "cells": [
  {
   "cell_type": "markdown",
   "metadata": {},
   "source": [
    "#### Description\n",
    "\n",
    "Given a char array representing tasks CPU need to do. It contains capital letters A to Z where different letters represent different tasks. Tasks could be done without original order. Each task could be done in one interval. For each interval, CPU could finish one task or just be idle.\n",
    "\n",
    "However, there is a non-negative cooling interval n that means between two same tasks, there must be at least n intervals that CPU are doing different tasks or just be idle.\n",
    "\n",
    "You need to return the least number of intervals the CPU will take to finish all the given tasks.\n",
    "\n",
    " \n",
    "\n",
    "Example:\n",
    "\n",
    "Input: tasks = \\[\"A\",\"A\",\"A\",\"B\",\"B\",\"B\"\\], n = 2\n",
    "Output: 8\n",
    "Explanation: A -> B -> idle -> A -> B -> idle -> A -> B.\n",
    " \n",
    "\n",
    "Constraints:\n",
    "\n",
    "The number of tasks is in the range \\[1, 10000\\].\n",
    "The integer n is in the range \\[0, 100\\]."
   ]
  },
  {
   "cell_type": "code",
   "execution_count": 1,
   "metadata": {},
   "outputs": [],
   "source": [
    "from typing import *\n",
    "\n",
    "class Solution:\n",
    "    def leastInterval(self, tasks: List[str], n: int) -> int:\n",
    "        count = {}\n",
    "        for i in  tasks:\n",
    "            if i in count:\n",
    "                count[i]+=1\n",
    "            else:\n",
    "                count[i]=1\n",
    "        \n",
    "        max_list = sorted(list(count.values()), reverse=True)\n",
    "        \n",
    "        max_freq = max_list[0]\n",
    "        i = 0\n",
    "        counter = 0\n",
    "        \n",
    "        while i<len(max_list) and max_list[i]==max_freq:\n",
    "            counter+=1\n",
    "            i+=1\n",
    "        intervals = (max_freq-1)*(n+1) + counter\n",
    "        \n",
    "        return max(len(tasks), intervals)"
   ]
  },
  {
   "cell_type": "code",
   "execution_count": 4,
   "metadata": {},
   "outputs": [
    {
     "output_type": "stream",
     "name": "stdout",
     "text": "all pass\n"
    }
   ],
   "source": [
    "from utils import test, do_test\n",
    "\n",
    "tests = [\n",
    "    test([[\"A\",\"A\",\"A\",\"B\",\"B\",\"B\"], 2],8),\n",
    "    test([[\"A\",\"A\",\"A\",\"B\",\"E\",\"F\"],2],7),\n",
    "    test([[\"A\",\"A\",\"A\",\"B\",\"B\",\"B\"],50],104),\n",
    "    test([[\"A\",\"A\",\"A\",\"B\",\"B\",\"B\",\"E\",\"F\",\"G\"], 2],9),\n",
    "    \n",
    "]\n",
    "\n",
    "do_test(tests, Solution.leastInterval)"
   ]
  },
  {
   "cell_type": "code",
   "execution_count": null,
   "metadata": {},
   "outputs": [],
   "source": []
  }
 ]
}