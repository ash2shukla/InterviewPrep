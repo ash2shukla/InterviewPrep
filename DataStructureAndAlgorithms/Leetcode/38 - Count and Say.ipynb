{
 "nbformat": 4,
 "nbformat_minor": 2,
 "metadata": {
  "language_info": {
   "name": "python",
   "codemirror_mode": {
    "name": "ipython",
    "version": 3
   },
   "version": "3.8.2-final"
  },
  "orig_nbformat": 2,
  "file_extension": ".py",
  "mimetype": "text/x-python",
  "name": "python",
  "npconvert_exporter": "python",
  "pygments_lexer": "ipython3",
  "version": 3,
  "kernelspec": {
   "name": "python3",
   "display_name": "Python 3"
  }
 },
 "cells": [
  {
   "cell_type": "markdown",
   "metadata": {},
   "source": [
    "The count-and-say sequence is the sequence of integers with the first five terms as following:\n",
    "\n",
    "1.     1\n",
    "2.     11\n",
    "3.     21\n",
    "4.     1211\n",
    "5.     111221\n",
    "\n",
    "1 is read off as \"one 1\" or 11.\n",
    "\n",
    "11 is read off as \"two 1s\" or 21.\n",
    "\n",
    "21 is read off as \"one 2, then one 1\" or 1211.\n",
    "\n",
    "Given an integer n where 1 ≤ n ≤ 30, generate the nth term of the count-and-say sequence. You can do so recursively, in other words from the previous member read off the digits, counting the number of digits in groups of the same digit.\n",
    "\n",
    "Note: Each term of the sequence of integers will be represented as a string."
   ]
  },
  {
   "cell_type": "code",
   "execution_count": 1,
   "metadata": {},
   "outputs": [],
   "source": [
    "from typing import *\n",
    "\n",
    "\n",
    "class Solution:\n",
    "    def countAndSay(self, n: int) -> str:\n",
    "        pattern = [1]\n",
    "        for i in range(n-1):\n",
    "            current = None\n",
    "            count = 0\n",
    "            current_pattern = []\n",
    "            for num in pattern:\n",
    "                if current and num == current:\n",
    "                    count +=1\n",
    "                elif num != current:\n",
    "                    if current:\n",
    "                        current_pattern.append(count)\n",
    "                        current_pattern.append(current)\n",
    "                    current = num\n",
    "                    count =1\n",
    "            current_pattern.append(count)\n",
    "            current_pattern.append(current)\n",
    "            pattern = current_pattern\n",
    "        return ''.join(str(i) for i in pattern)"
   ]
  },
  {
   "cell_type": "code",
   "execution_count": 2,
   "metadata": {},
   "outputs": [
    {
     "output_type": "stream",
     "name": "stdout",
     "text": "all pass\n"
    }
   ],
   "source": [
    "from utils import test, do_test\n",
    "\n",
    "\n",
    "tests = [\n",
    "    test(args=[1], result=\"1\"),\n",
    "    test(args=[5], result=\"111221\")\n",
    "]\n",
    "\n",
    "do_test(tests, Solution.countAndSay)"
   ]
  }
 ]
}