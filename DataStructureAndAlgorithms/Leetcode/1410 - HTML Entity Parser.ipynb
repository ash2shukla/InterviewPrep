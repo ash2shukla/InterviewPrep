{
 "nbformat": 4,
 "nbformat_minor": 2,
 "metadata": {
  "language_info": {
   "name": "python",
   "codemirror_mode": {
    "name": "ipython",
    "version": 3
   },
   "version": "3.6.10-final"
  },
  "orig_nbformat": 2,
  "file_extension": ".py",
  "mimetype": "text/x-python",
  "name": "python",
  "npconvert_exporter": "python",
  "pygments_lexer": "ipython3",
  "version": 3,
  "kernelspec": {
   "name": "python3",
   "display_name": "Python 3"
  }
 },
 "cells": [
  {
   "cell_type": "markdown",
   "metadata": {},
   "source": [
    "#### Description\n",
    "\n",
    "HTML entity parser is the parser that takes HTML code as input and replace all the entities of the special characters by the characters itself.\n",
    "\n",
    "The special characters and their entities for HTML are:\n",
    "\n",
    "Quotation Mark: the entity is &quot; and symbol character is \".\n",
    "Single Quote Mark: the entity is &apos; and symbol character is '.\n",
    "Ampersand: the entity is &amp; and symbol character is &.\n",
    "Greater Than Sign: the entity is &gt; and symbol character is >.\n",
    "Less Than Sign: the entity is &lt; and symbol character is <.\n",
    "Slash: the entity is &frasl; and symbol character is /.\n",
    "Given the input text string to the HTML parser, you have to implement the entity parser.\n",
    "\n",
    "Return the text after replacing the entities by the special characters.\n",
    "\n",
    " \n",
    "\n",
    "Example 1:\n",
    "\n",
    "Input: text = \"&amp; is an HTML entity but &ambassador; is not.\"\n",
    "Output: \"& is an HTML entity but &ambassador; is not.\"\n",
    "Explanation: The parser will replace the &amp; entity by &\n",
    "Example 2:\n",
    "\n",
    "Input: text = \"and I quote: &quot;...&quot;\"\n",
    "Output: \"and I quote: \\\"...\\\"\"\n",
    "Example 3:\n",
    "\n",
    "Input: text = \"Stay home! Practice on Leetcode :)\"\n",
    "Output: \"Stay home! Practice on Leetcode :)\"\n",
    "Example 4:\n",
    "\n",
    "Input: text = \"x &gt; y &amp;&amp; x &lt; y is always false\"\n",
    "Output: \"x > y && x < y is always false\"\n",
    "Example 5:\n",
    "\n",
    "Input: text = \"leetcode.com&frasl;problemset&frasl;all\"\n",
    "Output: \"leetcode.com/problemset/all\"\n",
    " \n",
    "\n",
    "Constraints:\n",
    "\n",
    "1 <= text.length <= 10^5\n",
    "The string may contain any possible characters out of all the 256 ASCII characters."
   ]
  },
  {
   "cell_type": "code",
   "execution_count": 2,
   "metadata": {},
   "outputs": [],
   "source": [
    "from typing import *\n",
    "\n",
    "class Solution:\n",
    "    def entityParser(self, text: str) -> str:\n",
    "        i =0\n",
    "        res = []\n",
    "        while i< len(text):\n",
    "            if text[i] !='&':\n",
    "                res.append(text[i])\n",
    "                i+=1\n",
    "                continue\n",
    "            else:\n",
    "                if text[i+1:i+6] == 'quot;':\n",
    "                    res.append('\"')\n",
    "                    i+=6\n",
    "                elif text[i+1:i+7] == 'frasl;':\n",
    "                    res.append('/')\n",
    "                    i+=7\n",
    "                elif text[i+1:i+6] == 'apos;':\n",
    "                    res.append(\"'\")\n",
    "                    i+=6\n",
    "                elif text[i+1:i+5] == 'amp;':\n",
    "                    res.append('&')\n",
    "                    i+=5\n",
    "                elif text[i+1:i+4] == 'gt;':\n",
    "                    res.append('>')\n",
    "                    i+=4\n",
    "                elif text[i+1:i+4] == 'lt;':\n",
    "                    res.append('<')\n",
    "                    i+=4\n",
    "                else:\n",
    "                    res.append(text[i])\n",
    "                    i+=1\n",
    "        return \"\".join(res)"
   ]
  },
  {
   "cell_type": "code",
   "execution_count": 3,
   "metadata": {},
   "outputs": [
    {
     "output_type": "stream",
     "name": "stdout",
     "text": "all pass\n"
    }
   ],
   "source": [
    "from utils import test, do_test\n",
    "\n",
    "tests =[\n",
    "    test([\"&amp; is an HTML entity but &ambassador; is not.\"],\"& is an HTML entity but &ambassador; is not.\"),\n",
    "    test([\"and I quote: &quot;...&quot;\"],\"and I quote: \\\"...\\\"\"),\n",
    "    test([\"Stay home! Practice on Leetcode :)\"],\"Stay home! Practice on Leetcode :)\"),\n",
    "]\n",
    "\n",
    "do_test(tests, Solution.entityParser)"
   ]
  }
 ]
}