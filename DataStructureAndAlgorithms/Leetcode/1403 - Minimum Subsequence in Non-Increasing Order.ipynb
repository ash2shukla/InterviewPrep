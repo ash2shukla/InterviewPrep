{
 "nbformat": 4,
 "nbformat_minor": 2,
 "metadata": {
  "language_info": {
   "name": "python",
   "codemirror_mode": {
    "name": "ipython",
    "version": 3
   },
   "version": "3.6.10-final"
  },
  "orig_nbformat": 2,
  "file_extension": ".py",
  "mimetype": "text/x-python",
  "name": "python",
  "npconvert_exporter": "python",
  "pygments_lexer": "ipython3",
  "version": 3,
  "kernelspec": {
   "name": "python3",
   "display_name": "Python 3"
  }
 },
 "cells": [
  {
   "cell_type": "code",
   "execution_count": null,
   "metadata": {},
   "outputs": [],
   "source": [
    "#### Description\n",
    "\n",
    "Given the array nums, obtain a subsequence of the array whose sum of elements is strictly greater than the sum of the non included elements in such subsequence. \n",
    "\n",
    "If there are multiple solutions, return the subsequence with minimum size and if there still exist multiple solutions, return the subsequence with the maximum total sum of all its elements. A subsequence of an array can be obtained by erasing some (possibly zero) elements from the array. \n",
    "\n",
    "Note that the solution with the given constraints is guaranteed to be unique. Also return the answer sorted in non-increasing order.\n",
    "\n",
    " \n",
    "\n",
    "Example 1:\n",
    "\n",
    "Input: nums = \\[4,3,10,9,8\\]\n",
    "Output: \\[10,9\\] \n",
    "\n",
    "Explanation: The subsequences [10,9] and [10,8] are minimal such that the sum of their elements is strictly greater than the sum of elements not included, however, the subsequence [10,9] has the maximum total sum of its elements. \n",
    "Example 2:\n",
    "\n",
    "Input: nums = \\[4,4,7,6,7\\]\n",
    "Output: \\[7,7,6\\] \n",
    "\n",
    "Explanation: The subsequence [7,7] has the sum of its elements equal to 14 which is not strictly greater than the sum of elements not included (14 = 4 + 4 + 6). Therefore, the subsequence [7,6,7] is the minimal satisfying the conditions. Note the subsequence has to returned in non-decreasing order.  \n",
    "Example 3:\n",
    "\n",
    "Input: nums = \\[6\\]\n",
    "Output: \\[6\\]\n",
    " \n",
    "\n",
    "Constraints:\n",
    "\n",
    "1 <= nums.length <= 500\n",
    "1 <= nums[i] <= 100"
   ]
  },
  {
   "cell_type": "code",
   "execution_count": 2,
   "metadata": {},
   "outputs": [],
   "source": [
    "from typing import *\n",
    "\n",
    "class Solution:\n",
    "    def minSubsequence(self, nums: List[int]) -> List[int]:\n",
    "        total = 0\n",
    "        total = sum(nums)\n",
    "        nums = sorted(nums)[::-1]\n",
    "        result = []\n",
    "        ptr = 0\n",
    "        while ptr<=total:\n",
    "            ptr+=nums[0]\n",
    "            result.append(nums[0])\n",
    "            nums = nums[1:]\n",
    "            total = sum(nums)\n",
    "        return result\n",
    "        "
   ]
  },
  {
   "cell_type": "code",
   "execution_count": 3,
   "metadata": {},
   "outputs": [
    {
     "output_type": "stream",
     "name": "stdout",
     "text": "all pass\n"
    }
   ],
   "source": [
    "from utils import test, do_test\n",
    "\n",
    "\n",
    "tests = [\n",
    "    test([[4,3,10,9,8]], [10,9]),\n",
    "    test([[4,4,7,6,7]], [7,7,6]),\n",
    "    test([[6]], [6]),\n",
    "]\n",
    "\n",
    "do_test(tests, Solution.minSubsequence)"
   ]
  }
 ]
}