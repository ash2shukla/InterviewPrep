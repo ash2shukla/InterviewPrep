{
 "nbformat": 4,
 "nbformat_minor": 2,
 "metadata": {
  "language_info": {
   "name": "python",
   "codemirror_mode": {
    "name": "ipython",
    "version": 3
   },
   "version": "3.6.10-final"
  },
  "orig_nbformat": 2,
  "file_extension": ".py",
  "mimetype": "text/x-python",
  "name": "python",
  "npconvert_exporter": "python",
  "pygments_lexer": "ipython3",
  "version": 3,
  "kernelspec": {
   "name": "python3",
   "display_name": "Python 3"
  }
 },
 "cells": [
  {
   "cell_type": "markdown",
   "metadata": {},
   "source": [
    "#### Description\n",
    "\n",
    "Given the array queries of positive integers between 1 and m, you have to process all queries\\[i\\] (from i=0 to i=queries.length-1) according to the following rules:\n",
    "\n",
    "In the beginning, you have the permutation P=\\[1,2,3,...,m\\].\n",
    "For the current i, find the position of queries\\[i\\] in the permutation P (indexing from 0) and then move this at the beginning of the permutation P. Notice that the position of queries\\[i\\] in P is the result for queries\\[i\\].\n",
    "Return an array containing the result for the given queries.\n",
    "\n",
    " \n",
    "\n",
    "Example 1:\n",
    "\n",
    "Input: queries = \\[3,1,2,1\\], m = 5\n",
    "Output: \\[2,1,2,1\\] \n",
    "Explanation: The queries are processed as follow: \n",
    "For i=0: queries\\[i\\]=3, P=\\[1,2,3,4,5\\], position of 3 in P is 2, then we move 3 to the beginning of P resulting in P=\\[3,1,2,4,5\\]. \n",
    "For i=1: queries\\[i\\]=1, P=\\[3,1,2,4,5\\], position of 1 in P is 1, then we move 1 to the beginning of P resulting in P=\\[1,3,2,4,5]. \n",
    "For i=2: queries\\[i\\]=2, P=\\[1,3,2,4,5\\], position of 2 in P is 2, then we move 2 to the beginning of P resulting in P=\\[2,1,3,4,5\\]. \n",
    "For i=3: queries\\[i\\]=1, P=\\[2,1,3,4,5\\], position of 1 in P is 1, then we move 1 to the beginning of P resulting in P=\\[1,2,3,4,5\\]. \n",
    "Therefore, the array containing the result is \\[2,1,2,1\\].  \n",
    "Example 2:\n",
    "\n",
    "Input: queries = \\[4,1,2,2\\], m = 4\n",
    "Output: \\[3,1,2,0\\]\n",
    "Example 3:\n",
    "\n",
    "Input: queries = \\[7,5,5,8,3\\], m = 8\n",
    "Output: \\[6,5,0,7,5\\]\n",
    " \n",
    "\n",
    "Constraints:\n",
    "\n",
    "1 <= m <= 10^3\n",
    "1 <= queries.length <= m\n",
    "1 <= queries\\[i\\] <= m"
   ]
  },
  {
   "cell_type": "code",
   "execution_count": 3,
   "metadata": {},
   "outputs": [],
   "source": [
    "from typing import *\n",
    "\n",
    "class Solution:\n",
    "    def processQueries(self, queries: List[int], m: int) -> List[int]:\n",
    "        P = []\n",
    "        res = []\n",
    "        for i in range(1,m+1):\n",
    "            P.append(i)\n",
    "        for i in range(len(queries)):\n",
    "            if queries[i] in P:\n",
    "                idx = P.index(queries[i])\n",
    "                res.append(idx)\n",
    "                P.insert(0, P.pop(idx))\n",
    "        return res"
   ]
  },
  {
   "cell_type": "code",
   "execution_count": 4,
   "metadata": {},
   "outputs": [
    {
     "output_type": "stream",
     "name": "stdout",
     "text": "all pass\n"
    }
   ],
   "source": [
    "from utils import test, do_test\n",
    "\n",
    "tests = [\n",
    "    test([[3,1,2,1],5],[2,1,2,1]),\n",
    "    test([[4,1,2,2],4],[3,1,2,0]),\n",
    "    test([[7,5,5,8,3],8],[6,5,0,7,5]),\n",
    "]\n",
    "\n",
    "do_test(tests, Solution.processQueries)"
   ]
  }
 ]
}