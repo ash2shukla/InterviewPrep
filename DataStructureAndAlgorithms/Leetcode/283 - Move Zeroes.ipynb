{
 "nbformat": 4,
 "nbformat_minor": 2,
 "metadata": {
  "language_info": {
   "name": "python",
   "codemirror_mode": {
    "name": "ipython",
    "version": 3
   },
   "version": "3.8.2-final"
  },
  "orig_nbformat": 2,
  "file_extension": ".py",
  "mimetype": "text/x-python",
  "name": "python",
  "npconvert_exporter": "python",
  "pygments_lexer": "ipython3",
  "version": 3,
  "kernelspec": {
   "name": "python3",
   "display_name": "Python 3"
  }
 },
 "cells": [
  {
   "cell_type": "markdown",
   "metadata": {},
   "source": [
    "Given an array nums, write a function to move all 0's to the end of it while maintaining the relative order of the non-zero elements.\n",
    "\n",
    "Example:\n",
    "\n",
    "Input: \\[0,1,0,3,12\\]\n",
    "\n",
    "Output: \\[1,3,12,0,0\\]\n",
    "\n",
    "Note:\n",
    "\n",
    "You must do this in-place without making a copy of the array.\n",
    "Minimize the total number of operations."
   ]
  },
  {
   "cell_type": "code",
   "execution_count": 1,
   "metadata": {},
   "outputs": [],
   "source": [
    "from typing import *\n",
    "\n",
    "\n",
    "class Solution:\n",
    "    def moveZeroes(self, nums: List[int]) -> None:\n",
    "        zeroes = sum(num == 0 for num in nums)\n",
    "        \n",
    "        place_at = 0\n",
    "        for i in range(len(nums)):\n",
    "            if nums[i] != 0:\n",
    "                nums[place_at] = nums[i]\n",
    "                place_at += 1\n",
    "\n",
    "        for i in range(zeroes):\n",
    "            nums[len(nums) - i - 1] = 0\n",
    "        return nums"
   ]
  },
  {
   "cell_type": "code",
   "execution_count": 2,
   "metadata": {},
   "outputs": [
    {
     "output_type": "stream",
     "name": "stdout",
     "text": "all pass\n"
    }
   ],
   "source": [
    "from utils import test, do_test\n",
    "\n",
    "\n",
    "tests = [\n",
    "    test(args=[[0, 1, 0, 3, 12]], result=[1, 3, 12, 0, 0]),\n",
    "    test(args=[[1, 0, 1, 0, 1]], result=[1, 1, 1, 0, 0]),\n",
    "    test(args=[[1, 0, 1, 0]], result=[1, 1, 0, 0])\n",
    "\n",
    "]\n",
    "\n",
    "do_test(tests, Solution.moveZeroes)"
   ]
  },
  {
   "cell_type": "markdown",
   "metadata": {},
   "source": [
    "In our previous solution we can wrap it up in one loop itself.\n",
    "\n",
    "```python\n",
    "from typing import *\n",
    "\n",
    "\n",
    "class Solution:\n",
    "    def moveZeroes(self, nums: List[int]) -> None:\n",
    "        zeroes = sum(num == 0 for num in nums) # one loop to count zeroes only but we can also place non zeroes along the way\n",
    "        \n",
    "        place_at = 0\n",
    "        for i in range(len(nums)):\n",
    "            if nums[i] != 0:\n",
    "                nums[place_at] = nums[i]\n",
    "                place_at += 1\n",
    "\n",
    "        for i in range(zeroes): # now place_at will be at the place where 0s need to be inserted\n",
    "            nums[len(nums) - i - 1] = 0\n",
    "        return nums\n",
    "```"
   ]
  },
  {
   "cell_type": "code",
   "execution_count": 3,
   "metadata": {},
   "outputs": [],
   "source": [
    "from typing import *\n",
    "\n",
    "\n",
    "class Solution:\n",
    "    def moveZeroesOptimized(self, nums: List[int]) -> None:\n",
    "        i = 0\n",
    "        for num in nums:\n",
    "            if num != 0:\n",
    "                nums[i] = num\n",
    "                i += 1\n",
    "\n",
    "        for j in range(len(nums) - i):\n",
    "            nums[len(nums) - j - 1] = 0\n",
    "        return nums"
   ]
  },
  {
   "cell_type": "code",
   "execution_count": 4,
   "metadata": {},
   "outputs": [
    {
     "output_type": "stream",
     "name": "stdout",
     "text": "all pass\n"
    }
   ],
   "source": [
    "from utils import test, do_test\n",
    "\n",
    "\n",
    "tests = [\n",
    "    test(args=[[0, 1, 0, 3, 12]], result=[1, 3, 12, 0, 0]),\n",
    "    test(args=[[1, 0, 1, 0, 1]], result=[1, 1, 1, 0, 0]),\n",
    "    test(args=[[1, 0, 1, 0]], result=[1, 1, 0, 0])\n",
    "\n",
    "]\n",
    "\n",
    "do_test(tests, Solution.moveZeroesOptimized)"
   ]
  }
 ]
}