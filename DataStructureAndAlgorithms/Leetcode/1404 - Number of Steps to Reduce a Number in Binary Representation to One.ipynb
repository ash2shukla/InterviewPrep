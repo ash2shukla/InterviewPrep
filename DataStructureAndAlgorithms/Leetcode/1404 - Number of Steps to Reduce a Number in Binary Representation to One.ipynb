{
 "nbformat": 4,
 "nbformat_minor": 2,
 "metadata": {
  "language_info": {
   "name": "python",
   "codemirror_mode": {
    "name": "ipython",
    "version": 3
   },
   "version": "3.6.10-final"
  },
  "orig_nbformat": 2,
  "file_extension": ".py",
  "mimetype": "text/x-python",
  "name": "python",
  "npconvert_exporter": "python",
  "pygments_lexer": "ipython3",
  "version": 3,
  "kernelspec": {
   "name": "python3",
   "display_name": "Python 3"
  }
 },
 "cells": [
  {
   "cell_type": "code",
   "execution_count": null,
   "metadata": {},
   "outputs": [],
   "source": [
    "#### Description\n",
    "\n",
    "Given a number s in their binary representation. Return the number of steps to reduce it to 1 under the following rules:\n",
    "\n",
    "If the current number is even, you have to divide it by 2.\n",
    "\n",
    "If the current number is odd, you have to add 1 to it.\n",
    "\n",
    "It's guaranteed that you can always reach to one for all testcases.\n",
    "\n",
    " \n",
    "\n",
    "Example 1:\n",
    "\n",
    "Input: s = \\\"1101\\\"\n",
    "Output: \\6\\\n",
    "Explanation: \"1101\" corressponds to number 13 in their decimal representation.\n",
    "Step 1) 13 is odd, add 1 and obtain 14. \n",
    "Step 2) 14 is even, divide by 2 and obtain 7.\n",
    "Step 3) 7 is odd, add 1 and obtain 8.\n",
    "Step 4) 8 is even, divide by 2 and obtain 4.  \n",
    "Step 5) 4 is even, divide by 2 and obtain 2. \n",
    "Step 6) 2 is even, divide by 2 and obtain 1.  \n",
    "Example 2:\n",
    "\n",
    "Input: s = \\\"10\\\"\n",
    "Output: \\1\\\n",
    "Explanation: \"10\" corressponds to number 2 in their decimal representation.\n",
    "Step 1) 2 is even, divide by 2 and obtain 1.  \n",
    "Example 3:\n",
    "\n",
    "Input: s = \\\"1\\\"\n",
    "Output: \\0\\\n",
    " \n",
    "\n",
    "Constraints:\n",
    "\n",
    "1 <= s.length <= 500\n",
    "s consists of characters '0' or '1'\n",
    "s[0] == '1'"
   ]
  },
  {
   "cell_type": "code",
   "execution_count": 1,
   "metadata": {},
   "outputs": [],
   "source": [
    "from typing import *\n",
    "\n",
    "class Solution:\n",
    "    def numSteps(self, s: str) -> int:\n",
    "        number = 0\n",
    "        for ch in s:\n",
    "            temp = int(ch)\n",
    "            number<<=1\n",
    "            number+=temp\n",
    "\n",
    "        count=0\n",
    "\n",
    "        while number!=1:\n",
    "            count+=1\n",
    "            if number%2==0:\n",
    "                number>>=1\n",
    "            else:\n",
    "                number+=1\n",
    "                \n",
    "        return count"
   ]
  },
  {
   "cell_type": "code",
   "execution_count": 2,
   "metadata": {},
   "outputs": [
    {
     "output_type": "stream",
     "name": "stdout",
     "text": "all pass\n"
    }
   ],
   "source": [
    "from utils import test, do_test\n",
    "\n",
    "tests = [\n",
    "    test(['1101'], 6),\n",
    "    test(['10'], 1),\n",
    "    test(['1'], 0)\n",
    "]\n",
    "\n",
    "do_test(tests, Solution.numSteps)"
   ]
  }
 ]
}