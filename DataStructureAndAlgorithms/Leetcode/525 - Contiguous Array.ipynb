{
 "nbformat": 4,
 "nbformat_minor": 2,
 "metadata": {
  "language_info": {
   "name": "python",
   "codemirror_mode": {
    "name": "ipython",
    "version": 3
   },
   "version": "3.6.10-final"
  },
  "orig_nbformat": 2,
  "file_extension": ".py",
  "mimetype": "text/x-python",
  "name": "python",
  "npconvert_exporter": "python",
  "pygments_lexer": "ipython3",
  "version": 3,
  "kernelspec": {
   "name": "python3",
   "display_name": "Python 3"
  }
 },
 "cells": [
  {
   "cell_type": "markdown",
   "metadata": {},
   "source": [
    "#### Description\n",
    "\n",
    "Given a binary array, find the maximum length of a contiguous subarray with equal number of 0 and 1.\n",
    "\n",
    "Example 1:\n",
    "Input: \\[0,1\\]\n",
    "Output: 2\n",
    "Explanation: \\[0, 1\\] is the longest contiguous subarray with equal number of 0 and 1.\n",
    "Example 2:\n",
    "Input: \\[0,1,0\\]\n",
    "Output: 2\n",
    "Explanation: \\[0, 1\\] (or \\[1, 0\\]) is a longest contiguous subarray with equal number of 0 and 1.\n",
    "Note: The length of the given binary array will not exceed 50,000."
   ]
  },
  {
   "cell_type": "code",
   "execution_count": 1,
   "metadata": {},
   "outputs": [],
   "source": [
    "from typing import *\n",
    "\n",
    "class Solution:\n",
    "    def findMaxLength(self, nums: List[int]) -> int:\n",
    "        hashmap = {}\n",
    "        hashmap[0]=-1\n",
    "        count = 0\n",
    "        res = 0\n",
    "        for i in range(len(nums)):\n",
    "            count += (1 if nums[i]==1 else -1)\n",
    "            if count in hashmap:\n",
    "                res = max(res, i - hashmap[count])\n",
    "            else:\n",
    "                hashmap[count] = i\n",
    "        return res"
   ]
  },
  {
   "cell_type": "code",
   "execution_count": 3,
   "metadata": {},
   "outputs": [
    {
     "output_type": "stream",
     "name": "stdout",
     "text": "all pass\n"
    }
   ],
   "source": [
    "from utils import test, do_test\n",
    "\n",
    "tests = [\n",
    "    test([[0,1]],2),\n",
    "    test([[0,1,0]],2),\n",
    "]\n",
    "\n",
    "do_test(tests, Solution.findMaxLength)"
   ]
  }
 ]
}