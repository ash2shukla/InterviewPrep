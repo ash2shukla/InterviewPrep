{
 "nbformat": 4,
 "nbformat_minor": 2,
 "metadata": {
  "language_info": {
   "name": "python",
   "codemirror_mode": {
    "name": "ipython",
    "version": 3
   },
   "version": "3.6.10-final"
  },
  "orig_nbformat": 2,
  "file_extension": ".py",
  "mimetype": "text/x-python",
  "name": "python",
  "npconvert_exporter": "python",
  "pygments_lexer": "ipython3",
  "version": 3,
  "kernelspec": {
   "name": "python3",
   "display_name": "Python 3"
  }
 },
 "cells": [
  {
   "cell_type": "markdown",
   "metadata": {},
   "source": [
    "#### Description\n",
    "```\n",
    "A valid parentheses string is either empty (\"\"), \"(\" + A + \")\", or A + B, where A and B are valid parentheses strings, and + represents string concatenation.  For example, \"\", \"()\", \"(())()\", and \"(()(()))\" are all valid parentheses strings.\n",
    "\n",
    "A valid parentheses string S is primitive if it is nonempty, and there does not exist a way to split it into S = A+B, with A and B nonempty valid parentheses strings.\n",
    "\n",
    "Given a valid parentheses string S, consider its primitive decomposition: S = P_1 + P_2 + ... + P_k, where P_i are primitive valid parentheses strings.\n",
    "\n",
    "Return S after removing the outermost parentheses of every primitive string in the primitive decomposition of S.\n",
    "\n",
    " \n",
    "\n",
    "Example 1:\n",
    "\n",
    "Input: \"(()())(())\"\n",
    "Output: \"()()()\"\n",
    "Explanation: \n",
    "The input string is \"(()())(())\", with primitive decomposition \"(()())\" + \"(())\".\n",
    "After removing outer parentheses of each part, this is \"()()\" + \"()\" = \"()()()\".\n",
    "Example 2:\n",
    "\n",
    "Input: \"(()())(())(()(()))\"\n",
    "Output: \"()()()()(())\"\n",
    "Explanation: \n",
    "The input string is \"(()())(())(()(()))\", with primitive decomposition \"(()())\" + \"(())\" + \"(()(()))\".\n",
    "After removing outer parentheses of each part, this is \"()()\" + \"()\" + \"()(())\" = \"()()()()(())\".\n",
    "Example 3:\n",
    "\n",
    "Input: \"()()\"\n",
    "Output: \"\"\n",
    "Explanation: \n",
    "The input string is \"()()\", with primitive decomposition \"()\" + \"()\".\n",
    "After removing outer parentheses of each part, this is \"\" + \"\" = \"\".\n",
    " \n",
    "\n",
    "Note:\n",
    "\n",
    "S.length <= 10000\n",
    "S[i] is \"(\" or \")\"\n",
    "S is a valid parentheses string\n",
    "```"
   ]
  },
  {
   "cell_type": "code",
   "execution_count": 7,
   "metadata": {},
   "outputs": [],
   "source": [
    "class Solution:\n",
    "    def removeOuterParentheses(self, S: str) -> str:\n",
    "        stack = []\n",
    "        result = []\n",
    "        for s in S:\n",
    "            if s == \")\" and stack[-1] == \"(\":\n",
    "                stack.pop()\n",
    "                if stack:\n",
    "                    result.append(s)\n",
    "            elif s == \"(\":\n",
    "                if stack:\n",
    "                    result.append(s)\n",
    "                stack.append(s)\n",
    "        return ''.join(result)"
   ]
  },
  {
   "cell_type": "code",
   "execution_count": 8,
   "metadata": {},
   "outputs": [
    {
     "output_type": "stream",
     "name": "stdout",
     "text": "all pass\n"
    }
   ],
   "source": [
    "from utils import do_test, test\n",
    "\n",
    "tests = [\n",
    "    test([\"(()())(())(()(()))\"], \"()()()()(())\"),\n",
    "    test([\"()()\"], \"\")\n",
    "]\n",
    "\n",
    "do_test(tests, Solution.removeOuterParentheses)"
   ]
  }
 ]
}