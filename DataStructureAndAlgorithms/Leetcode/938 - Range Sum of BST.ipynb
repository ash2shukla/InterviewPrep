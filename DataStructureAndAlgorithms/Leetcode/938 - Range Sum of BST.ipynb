{
 "nbformat": 4,
 "nbformat_minor": 2,
 "metadata": {
  "language_info": {
   "name": "python",
   "codemirror_mode": {
    "name": "ipython",
    "version": 3
   },
   "version": "3.8.2-final"
  },
  "orig_nbformat": 2,
  "file_extension": ".py",
  "mimetype": "text/x-python",
  "name": "python",
  "npconvert_exporter": "python",
  "pygments_lexer": "ipython3",
  "version": 3,
  "kernelspec": {
   "name": "python3",
   "display_name": "Python 3"
  }
 },
 "cells": [
  {
   "cell_type": "markdown",
   "metadata": {},
   "source": [
    "#### Description\n",
    "```\n",
    "Given the root node of a binary search tree, return the sum of values of all nodes with value between L and R (inclusive).\n",
    "\n",
    "The binary search tree is guaranteed to have unique values.\n",
    "\n",
    " \n",
    "\n",
    "Example 1:\n",
    "\n",
    "Input: root = [10,5,15,3,7,null,18], L = 7, R = 15\n",
    "Output: 32\n",
    "Example 2:\n",
    "\n",
    "Input: root = [10,5,15,3,7,13,18,1,null,6], L = 6, R = 10\n",
    "Output: 23\n",
    " \n",
    "\n",
    "Note:\n",
    "\n",
    "The number of nodes in the tree is at most 10000.\n",
    "The final answer is guaranteed to be less than 2^31.\n",
    "```"
   ]
  },
  {
   "cell_type": "code",
   "execution_count": 5,
   "metadata": {},
   "outputs": [],
   "source": [
    "from utils import TreeNode\n",
    "\n",
    "\n",
    "class Solution:\n",
    "    def rangeSumBST(self, root: TreeNode, L: int, R: int) -> int:\n",
    "        result = 0\n",
    "        stack = [root]\n",
    "        \n",
    "        while stack:\n",
    "            popped = stack.pop()\n",
    "            if popped:\n",
    "                if L<= popped.val <= R:\n",
    "                    result += popped.val\n",
    "                stack.append(popped.left)\n",
    "                stack.append(popped.right)\n",
    "        return result"
   ]
  },
  {
   "cell_type": "code",
   "execution_count": 7,
   "metadata": {},
   "outputs": [
    {
     "output_type": "stream",
     "name": "stdout",
     "text": "all pass\n"
    }
   ],
   "source": [
    "from utils import do_test, test, treenode, create_btree\n",
    "\n",
    "tests = [\n",
    "    test(\n",
    "        args=[\n",
    "            create_btree([\n",
    "                treenode(value=10, parent_index=-1, alignment=None),\n",
    "                treenode(value=5, parent_index=0, alignment='left'),\n",
    "                treenode(value=15, parent_index=0, alignment='right'),\n",
    "                treenode(value=3, parent_index=1, alignment='left'),\n",
    "                treenode(value=7, parent_index=1, alignment='right'),\n",
    "                treenode(value=18, parent_index=2, alignment='right')\n",
    "            ]),\n",
    "            7,\n",
    "            15\n",
    "        ],\n",
    "    result=32)\n",
    "]\n",
    "\n",
    "do_test(tests, Solution().rangeSumBST)"
   ]
  }
 ]
}