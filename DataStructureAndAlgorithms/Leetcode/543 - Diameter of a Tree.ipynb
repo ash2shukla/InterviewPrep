{
 "nbformat": 4,
 "nbformat_minor": 2,
 "metadata": {
  "language_info": {
   "name": "python",
   "codemirror_mode": {
    "name": "ipython",
    "version": 3
   },
   "version": "3.8.2-final"
  },
  "orig_nbformat": 2,
  "file_extension": ".py",
  "mimetype": "text/x-python",
  "name": "python",
  "npconvert_exporter": "python",
  "pygments_lexer": "ipython3",
  "version": 3,
  "kernelspec": {
   "name": "python3",
   "display_name": "Python 3"
  }
 },
 "cells": [
  {
   "cell_type": "markdown",
   "metadata": {},
   "source": [
    "#### Description\n",
    "```\n",
    "Given a binary tree, you need to compute the length of the diameter of the tree. The diameter of a binary tree is the length of the longest path between any two nodes in a tree. This path may or may not pass through the root.\n",
    "\n",
    "Example:\n",
    "Given a binary tree\n",
    "          1\n",
    "         / \\\n",
    "        2   3\n",
    "       / \\     \n",
    "      4   5    \n",
    "Return 3, which is the length of the path [4,2,1,3] or [5,2,1,3].\n",
    "\n",
    "Note: The length of path between two nodes is represented by the number of edges between them.\n",
    "```"
   ]
  },
  {
   "cell_type": "code",
   "execution_count": 1,
   "metadata": {},
   "outputs": [],
   "source": [
    "from utils import TreeNode\n",
    "\n",
    "\n",
    "class Solution:\n",
    "    def maxPath(self, node: TreeNode) -> int:\n",
    "        if node:\n",
    "            left = self.maxPath(node.right)\n",
    "            right = self.maxPath(node.left)\n",
    "            self.glob_max = max(self.glob_max, left + right)\n",
    "            return max(left , right) + 1\n",
    "        else:\n",
    "            return 0\n",
    "\n",
    "    def diameterOfBinaryTree(self, root: TreeNode) -> int:\n",
    "        self.glob_max = 0\n",
    "        self.maxPath(root)\n",
    "        return self.glob_max"
   ]
  },
  {
   "cell_type": "code",
   "execution_count": 2,
   "metadata": {},
   "outputs": [
    {
     "output_type": "stream",
     "name": "stdout",
     "text": "all pass\n"
    }
   ],
   "source": [
    "from utils import do_test, test, treenode, create_btree\n",
    "\n",
    "tests = [\n",
    "    test(\n",
    "        args=[\n",
    "            create_btree([\n",
    "                treenode(value=1, parent_index=-1, alignment=None),\n",
    "                treenode(value=2, parent_index=0, alignment='left'),\n",
    "                treenode(value=3, parent_index=0, alignment='right'),\n",
    "                treenode(value=4, parent_index=1, alignment='left'),\n",
    "                treenode(value=5, parent_index=1, alignment='right')\n",
    "            ])\n",
    "        ],\n",
    "    result=3),\n",
    "    test(\n",
    "        args=[\n",
    "            create_btree([])\n",
    "        ],\n",
    "    result=0),\n",
    "    test(\n",
    "        args=[\n",
    "            create_btree([\n",
    "                treenode(value=1, parent_index=-1, alignment=None),\n",
    "                treenode(value=2, parent_index=0, alignment='left'),\n",
    "                treenode(value=3, parent_index=1, alignment='right'),\n",
    "            ])\n",
    "        ],\n",
    "    result=2)\n",
    "]\n",
    "\n",
    "do_test(tests, Solution().diameterOfBinaryTree)"
   ]
  }
 ]
}