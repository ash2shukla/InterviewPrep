{
 "nbformat": 4,
 "nbformat_minor": 2,
 "metadata": {
  "language_info": {
   "name": "python",
   "codemirror_mode": {
    "name": "ipython",
    "version": 3
   },
   "version": "3.8.2-final"
  },
  "orig_nbformat": 2,
  "file_extension": ".py",
  "mimetype": "text/x-python",
  "name": "python",
  "npconvert_exporter": "python",
  "pygments_lexer": "ipython3",
  "version": 3,
  "kernelspec": {
   "name": "python3",
   "display_name": "Python 3"
  }
 },
 "cells": [
  {
   "cell_type": "markdown",
   "metadata": {},
   "source": [
    "#### Description\n",
    "\n",
    "Given a non-empty string s and a dictionary wordDict containing a list of non-empty words, determine if s can be segmented into a space-separated sequence of one or more dictionary words.\n",
    "\n",
    "Note:\n",
    "\n",
    "The same word in the dictionary may be reused multiple times in the segmentation.\n",
    "You may assume the dictionary does not contain duplicate words.\n",
    "\n",
    "Example 1:\n",
    "\n",
    "Input: s = \"leetcode\", wordDict = \\[\"leet\", \"code\"\\]\n",
    "\n",
    "Output: true\n",
    "\n",
    "Explanation: Return true because \"leetcode\" can be segmented as \"leet code\".\n",
    "\n",
    "Example 2:\n",
    "\n",
    "Input: s = \"applepenapple\", wordDict = \\[\"apple\", \"pen\"\\]\n",
    "\n",
    "Output: true\n",
    "\n",
    "Explanation: Return true because \"applepenapple\" can be segmented as \"apple pen apple\".\n",
    "             Note that you are allowed to reuse a dictionary word.\n",
    "\n",
    "Example 3:\n",
    "\n",
    "Input: s = \"catsandog\", wordDict = \\[\"cats\", \"dog\", \"sand\", \"and\", \"cat\"\\]\n",
    "\n",
    "Output: false"
   ]
  },
  {
   "cell_type": "code",
   "execution_count": 1,
   "metadata": {},
   "outputs": [],
   "source": [
    "from typing import *\n",
    "from pprint import pprint\n",
    "\n",
    "\n",
    "class Solution:\n",
    "    def wordBreak(self, s: str, wordDict: List[str]) -> bool:\n",
    "        memo = []\n",
    "        for i in range(len(s)):\n",
    "            memo.append([None] * (len(s)))\n",
    "        word_dict = set(wordDict)\n",
    "\n",
    "        for i in range(len(s)):\n",
    "            for j in range(len(s)-i):\n",
    "                start = j\n",
    "                end = i + j\n",
    "                substr = s[start:end+1]\n",
    "                if substr in word_dict:\n",
    "                    memo[start][end] = True\n",
    "                elif len(substr) == 1:\n",
    "                    memo[start][end] = False\n",
    "                else:\n",
    "                    for k in range(len(substr)-1):\n",
    "                        if all([memo[start][end-k-1], memo[end-k][end]]):\n",
    "                            memo[start][end] = True\n",
    "                            break\n",
    "                    else:\n",
    "                        memo[start][end]  = False\n",
    "        return memo[0][-1]"
   ]
  },
  {
   "cell_type": "code",
   "execution_count": 2,
   "metadata": {},
   "outputs": [
    {
     "output_type": "stream",
     "name": "stdout",
     "text": "all pass\n"
    }
   ],
   "source": [
    "from utils import test, do_test\n",
    "\n",
    "\n",
    "tests = [\n",
    "    test([\"iamace\", [\"am\", \"ace\", \"i\", \"a\"]], True)\n",
    "]\n",
    "\n",
    "do_test(tests, Solution.wordBreak)"
   ]
  }
 ]
}