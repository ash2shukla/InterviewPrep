{
 "nbformat": 4,
 "nbformat_minor": 2,
 "metadata": {
  "language_info": {
   "name": "python",
   "codemirror_mode": {
    "name": "ipython",
    "version": 3
   },
   "version": "3.8.2-final"
  },
  "orig_nbformat": 2,
  "file_extension": ".py",
  "mimetype": "text/x-python",
  "name": "python",
  "npconvert_exporter": "python",
  "pygments_lexer": "ipython3",
  "version": 3,
  "kernelspec": {
   "name": "python3",
   "display_name": "Python 3"
  }
 },
 "cells": [
  {
   "cell_type": "markdown",
   "metadata": {},
   "source": [
    "#### Description\n",
    "\n",
    "Given an array of strings, group anagrams together.\n",
    "\n",
    "Example:\n",
    "\n",
    "Input: \\[\"eat\", \"tea\", \"tan\", \"ate\", \"nat\", \"bat\"\\],\n",
    "\n",
    "Output:\n",
    "\n",
    "\\[\n",
    "  \\[\"ate\",\"eat\",\"tea\"\\],\n",
    "  \\[\"nat\",\"tan\"\\],\n",
    "  \\[\"bat\"\\]\n",
    "\\]\n",
    "\n",
    "Note:\n",
    "\n",
    "All inputs will be in lowercase.\n",
    "\n",
    "The order of your output does not matter."
   ]
  },
  {
   "cell_type": "code",
   "execution_count": 1,
   "metadata": {},
   "outputs": [],
   "source": [
    "from typing import *\n",
    "from collections import defaultdict\n",
    "\n",
    "\n",
    "class Solution:\n",
    "    def groupAnagrams(self, strs: List[str]) -> List[List[str]]:\n",
    "        words = defaultdict(list)\n",
    "        for string in strs:\n",
    "            letters = [0] * 26\n",
    "            for letter in string:\n",
    "                letters[ord(letter) - ord('a')] += 1\n",
    "            words[tuple(letters)].append(string)\n",
    "        return list(words.values())"
   ]
  },
  {
   "cell_type": "code",
   "execution_count": 2,
   "metadata": {},
   "outputs": [
    {
     "output_type": "stream",
     "name": "stdout",
     "text": "all pass\n"
    }
   ],
   "source": [
    "from utils import test, do_test\n",
    "\n",
    "tests = [\n",
    "    test([[\"eat\", \"tea\", \"tan\", \"ate\", \"nat\", \"bat\"]], [ [\"ate\",\"eat\",\"tea\"], [\"nat\",\"tan\"], [\"bat\"] ]),\n",
    "    test([[\"\", \"b\", \"\"]], [[\"\", \"\"], [\"b\"]])\n",
    "]\n",
    "\n",
    "do_test(tests, Solution.groupAnagrams)"
   ]
  },
  {
   "cell_type": "markdown",
   "metadata": {},
   "source": [
    "Another solution involves checking for sorted strings for anagram check, instead of calculating their frequencies."
   ]
  },
  {
   "cell_type": "code",
   "execution_count": 4,
   "metadata": {},
   "outputs": [],
   "source": [
    "from typing import *\n",
    "from collections import defaultdict\n",
    "\n",
    "\n",
    "class Solution:\n",
    "    def groupAnagrams(self, strs: List[str]) -> List[List[str]]:\n",
    "        words = defaultdict(list)\n",
    "        for string in strs:\n",
    "            words[tuple(sorted(string))].append(string)\n",
    "        return list(words.values())"
   ]
  },
  {
   "cell_type": "code",
   "execution_count": 5,
   "metadata": {},
   "outputs": [
    {
     "output_type": "stream",
     "name": "stdout",
     "text": "all pass\n"
    }
   ],
   "source": [
    "from utils import test, do_test\n",
    "\n",
    "tests = [\n",
    "    test([[\"eat\", \"tea\", \"tan\", \"ate\", \"nat\", \"bat\"]], [ [\"ate\",\"eat\",\"tea\"], [\"nat\",\"tan\"], [\"bat\"] ]),\n",
    "    test([[\"\", \"b\", \"\"]], [[\"\", \"\"], [\"b\"]])\n",
    "]\n",
    "\n",
    "do_test(tests, Solution.groupAnagrams)"
   ]
  }
 ]
}