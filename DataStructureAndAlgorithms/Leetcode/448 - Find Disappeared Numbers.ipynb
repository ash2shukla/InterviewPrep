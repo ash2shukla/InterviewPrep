{
 "nbformat": 4,
 "nbformat_minor": 2,
 "metadata": {
  "language_info": {
   "name": "python",
   "codemirror_mode": {
    "name": "ipython",
    "version": 3
   },
   "version": "3.8.2-final"
  },
  "orig_nbformat": 2,
  "file_extension": ".py",
  "mimetype": "text/x-python",
  "name": "python",
  "npconvert_exporter": "python",
  "pygments_lexer": "ipython3",
  "version": 3,
  "kernelspec": {
   "name": "python3",
   "display_name": "Python 3"
  }
 },
 "cells": [
  {
   "cell_type": "markdown",
   "metadata": {},
   "source": [
    "#### Description\n",
    "```\n",
    "Given an array of integers where 1 ≤ a[i] ≤ n (n = size of array), some elements appear twice and others appear once.\n",
    "\n",
    "Find all the elements of [1, n] inclusive that do not appear in this array.\n",
    "\n",
    "Could you do it without extra space and in O(n) runtime? You may assume the returned list does not count as extra space.\n",
    "\n",
    "Example:\n",
    "\n",
    "Input:\n",
    "[4,3,2,7,8,2,3,1]\n",
    "\n",
    "Output:\n",
    "[5,6]\n",
    "```"
   ]
  },
  {
   "cell_type": "code",
   "execution_count": 2,
   "metadata": {},
   "outputs": [],
   "source": [
    "from typing import *\n",
    "\n",
    "\n",
    "class Solution:\n",
    "    def findDisappearedNumbers(self, nums: List[int]) -> List[int]:\n",
    "        result = []\n",
    "        for num in nums:\n",
    "            if nums[num-1] > 0:\n",
    "                nums[num-1] -=len(nums)\n",
    "        for idx, num in enumerate(nums):\n",
    "            if num > 0:\n",
    "                result.append(idx+1)\n",
    "        return result"
   ]
  },
  {
   "cell_type": "code",
   "execution_count": 11,
   "metadata": {},
   "outputs": [
    {
     "output_type": "stream",
     "name": "stdout",
     "text": "all pass\n"
    }
   ],
   "source": [
    "from utils import test, do_test\n",
    "\n",
    "tests = [\n",
    "    test(args=[[4,3,2,7,8,2,3,1]], result=[5, 6]),\n",
    "    test(args=[[8,3,2,7,8,2,3,1]], result=[4, 5, 6]),\n",
    "    test(args=[[1,1,2,2,3,3,4,4]], result=[5, 6, 7, 8]),\n",
    "    test(args=[[]], result=[])\n",
    "]\n",
    "do_test(tests, Solution.findDisappearedNumbers)"
   ]
  }
 ]
}