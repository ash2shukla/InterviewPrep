{
 "nbformat": 4,
 "nbformat_minor": 2,
 "metadata": {
  "language_info": {
   "name": "python",
   "codemirror_mode": {
    "name": "ipython",
    "version": 3
   },
   "version": "3.6.10-final"
  },
  "orig_nbformat": 2,
  "file_extension": ".py",
  "mimetype": "text/x-python",
  "name": "python",
  "npconvert_exporter": "python",
  "pygments_lexer": "ipython3",
  "version": 3,
  "kernelspec": {
   "name": "python3",
   "display_name": "Python 3"
  }
 },
 "cells": [
  {
   "cell_type": "markdown",
   "metadata": {},
   "source": [
    "#### Description\n",
    "\n",
    "We have a collection of stones, each stone has a positive integer weight.\n",
    "\n",
    "Each turn, we choose the two heaviest stones and smash them together.  Suppose the stones have weights x and y with x <= y.  The result of this smash is:\n",
    "\n",
    "If x == y, both stones are totally destroyed;\n",
    "\n",
    "If x != y, the stone of weight x is totally destroyed, and the stone of weight y has new weight y-x.\n",
    "\n",
    "At the end, there is at most 1 stone left.  Return the weight of this stone (or 0 if there are no stones left.)\n",
    " \n",
    "\n",
    "Example 1:\n",
    "\n",
    "Input: \\[2,7,4,1,8,1\\]\n",
    "\n",
    "Output: 1\n",
    "\n",
    "Explanation: \n",
    "\n",
    "We combine 7 and 8 to get 1 so the array converts to \\[2,4,1,1,1\\] then,\n",
    "\n",
    "we combine 2 and 4 to get 2 so the array converts to \\[2,1,1,1\\] then,\n",
    "\n",
    "we combine 2 and 1 to get 1 so the array converts to \\[1,1,1\\] then,\n",
    "\n",
    "we combine 1 and 1 to get 0 so the array converts to \\[1\\] then that's the value of last stone.\n",
    " \n",
    "\n",
    "Note:\n",
    "\n",
    "1 <= stones.length <= 30\n",
    "\n",
    "1 <= stones[i] <= 1000"
   ]
  },
  {
   "cell_type": "code",
   "execution_count": 5,
   "metadata": {},
   "outputs": [],
   "source": [
    "from typing import *\n",
    "from heapq import heapify, heappop, heappush\n",
    "\n",
    "\n",
    "class Solution:\n",
    "    def lastStoneWeight(self, stones: List[int]) -> int:\n",
    "        stones = [-i for i in stones]\n",
    "        heapify(stones)\n",
    "\n",
    "        while len(stones) >= 2:\n",
    "            x = heappop(stones)\n",
    "            y = heappop(stones)\n",
    "            if x != y:\n",
    "                heappush(stones, x - y)\n",
    "        else:\n",
    "            return (stones and -stones[0]) or 0"
   ]
  },
  {
   "cell_type": "code",
   "execution_count": 6,
   "metadata": {},
   "outputs": [
    {
     "output_type": "stream",
     "name": "stdout",
     "text": "all pass\n"
    }
   ],
   "source": [
    "from utils import do_test, test\n",
    "\n",
    "tests = [\n",
    "    test(args=[[2, 7, 4, 1, 8, 1]], result=1),\n",
    "    test(args=[[1, 3]], result=2),\n",
    "    test(args=[[2, 2]], result=0)\n",
    "]\n",
    "\n",
    "do_test(tests, Solution.lastStoneWeight)"
   ]
  }
 ]
}