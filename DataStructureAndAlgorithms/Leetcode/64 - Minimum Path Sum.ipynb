{
 "nbformat": 4,
 "nbformat_minor": 2,
 "metadata": {
  "language_info": {
   "name": "python",
   "codemirror_mode": {
    "name": "ipython",
    "version": 3
   },
   "version": "3.8.2-final"
  },
  "orig_nbformat": 2,
  "file_extension": ".py",
  "mimetype": "text/x-python",
  "name": "python",
  "npconvert_exporter": "python",
  "pygments_lexer": "ipython3",
  "version": 3,
  "kernelspec": {
   "name": "python3",
   "display_name": "Python 3"
  }
 },
 "cells": [
  {
   "cell_type": "markdown",
   "metadata": {},
   "source": [
    "#### Description\n",
    "```\n",
    "Given a m x n grid filled with non-negative numbers, find a path from top left to bottom right which minimizes the sum of all numbers along its path.\n",
    "\n",
    "Note: You can only move either down or right at any point in time.\n",
    "\n",
    "Example:\n",
    "\n",
    "Input:\n",
    "[\n",
    "  [1,3,1],\n",
    "  [1,5,1],\n",
    "  [4,2,1]\n",
    "]\n",
    "Output: 7\n",
    "Explanation: Because the path 1→3→1→1→1 minimizes the sum.\n",
    "```"
   ]
  },
  {
   "cell_type": "code",
   "execution_count": 18,
   "metadata": {},
   "outputs": [],
   "source": [
    "from heapq import heappop, heapify, heappush\n",
    "from typing import *\n",
    "\n",
    "\n",
    "class Solution:\n",
    "    def minPathSum(self, grid: List[List[int]]) -> int:\n",
    "        visited = []\n",
    "        distance = []\n",
    "\n",
    "        # Dijikstra\n",
    "        for i in range(len(grid)):\n",
    "            visited.append([False]*len(grid[i]))\n",
    "            distance.append([float('inf')]*len(grid[i]))\n",
    "        \n",
    "        heap = [(grid[0][0], 0, 0)]\n",
    "        heapify(heap)\n",
    "        visited[0][0] = True\n",
    "        distance[0][0] = grid[0][0]\n",
    "        # heapify by distance and save the indeces\n",
    "\n",
    "        while heap:\n",
    "            # pop out the element from heap\n",
    "            _, i, j = heappop(heap)\n",
    "\n",
    "            if i != len(grid) - 1:\n",
    "                distance[i+1][j] = min(distance[i][j] + grid[i+1][j], distance[i+1][j])\n",
    "                if not visited[i+1][j]:\n",
    "                    visited[i+1][j] = True\n",
    "                    heappush(heap, (distance[i+1][j], i+1, j))\n",
    "\n",
    "            if j != len(grid[i]) -1:\n",
    "                distance[i][j+1] = min(distance[i][j] + grid[i][j+1], distance[i][j+1])\n",
    "                if not visited[i][j+1]:\n",
    "                    visited[i][j+1] = True\n",
    "                    heappush(heap, (distance[i][j+1], i, j+1))\n",
    "\n",
    "        return distance[-1][-1]"
   ]
  },
  {
   "cell_type": "code",
   "execution_count": 21,
   "metadata": {},
   "outputs": [
    {
     "output_type": "stream",
     "name": "stdout",
     "text": "all pass\n"
    }
   ],
   "source": [
    "from utils import test, do_test\n",
    "\n",
    "\n",
    "tests = [\n",
    "    test(\n",
    "        args=[\n",
    "            [\n",
    "                [1,3,1],\n",
    "                [1,5,1],\n",
    "                [4,2,1]\n",
    "            ]\n",
    "        ],\n",
    "        result=7\n",
    "    ),\n",
    "    test(\n",
    "        args=[\n",
    "            [\n",
    "                [1,3,1],\n",
    "                [1,5,1]            ]\n",
    "        ],\n",
    "        result=6\n",
    "    )\n",
    "]\n",
    "do_test(tests, Solution.minPathSum)"
   ]
  }
 ]
}