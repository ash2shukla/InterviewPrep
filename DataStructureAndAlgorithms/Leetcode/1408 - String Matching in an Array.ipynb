{
 "nbformat": 4,
 "nbformat_minor": 2,
 "metadata": {
  "language_info": {
   "name": "python",
   "codemirror_mode": {
    "name": "ipython",
    "version": 3
   },
   "version": "3.6.10-final"
  },
  "orig_nbformat": 2,
  "file_extension": ".py",
  "mimetype": "text/x-python",
  "name": "python",
  "npconvert_exporter": "python",
  "pygments_lexer": "ipython3",
  "version": 3,
  "kernelspec": {
   "name": "python3",
   "display_name": "Python 3"
  }
 },
 "cells": [
  {
   "cell_type": "markdown",
   "metadata": {},
   "source": [
    "#### Description\n",
    "\n",
    "Given an array of string words. Return all strings in words which is substring of another word in any order. \n",
    "\n",
    "String words\\[i\\] is substring of words\\[j\\], if can be obtained removing some characters to left and/or right side of words\\[j\\].\n",
    "\n",
    " \n",
    "\n",
    "Example 1:\n",
    "\n",
    "Input: words = \\[\"mass\",\"as\",\"hero\",\"superhero\"\\]\n",
    "Output: \\[\"as\",\"hero\"\\]\n",
    "Explanation: \"as\" is substring of \"mass\" and \"hero\" is substring of \"superhero\".\n",
    "\\[\"hero\",\"as\"\\] is also a valid answer.\n",
    "Example 2:\n",
    "\n",
    "Input: words = \\[\"leetcode\",\"et\",\"code\"\\]\n",
    "Output: \\[\"et\",\"code\"\\]\n",
    "Explanation: \"et\", \"code\" are substring of \"leetcode\".\n",
    "Example 3:\n",
    "\n",
    "Input: words = \\[\"blue\",\"green\",\"bu\"\\]\n",
    "Output: \\[\\]\n",
    " \n",
    "\n",
    "Constraints:\n",
    "\n",
    "1 <= words.length <= 100\n",
    "1 <= words\\[i\\].length <= 30\n",
    "words\\[i\\] contains only lowercase English letters.\n",
    "It's guaranteed that words\\[i\\] will be unique."
   ]
  },
  {
   "cell_type": "code",
   "execution_count": 5,
   "metadata": {},
   "outputs": [],
   "source": [
    "from typing import *\n",
    "\n",
    "class Solution:\n",
    "    def stringMatching(self, words: List[str]) -> List[str]:\n",
    "        res = []\n",
    "        for i, word in enumerate(words):\n",
    "            for j, eword in enumerate(words):\n",
    "                if j!=i:\n",
    "                    if word in eword:\n",
    "                        res.append(word)\n",
    "                        break\n",
    "        return res"
   ]
  },
  {
   "cell_type": "code",
   "execution_count": 6,
   "metadata": {},
   "outputs": [
    {
     "output_type": "stream",
     "name": "stdout",
     "text": "all pass\n"
    }
   ],
   "source": [
    "from utils import test, do_test\n",
    "\n",
    "tests = [\n",
    "    test([[\"mass\",\"as\",\"hero\",\"superhero\"]],[\"as\",\"hero\"]),\n",
    "    test([[\"leetcode\",\"et\",\"code\"]],[\"et\",\"code\"]),\n",
    "    test([[\"blue\",\"green\",\"bu\"]],[]),\n",
    "]\n",
    "\n",
    "do_test(tests, Solution.stringMatching)"
   ]
  }
 ]
}