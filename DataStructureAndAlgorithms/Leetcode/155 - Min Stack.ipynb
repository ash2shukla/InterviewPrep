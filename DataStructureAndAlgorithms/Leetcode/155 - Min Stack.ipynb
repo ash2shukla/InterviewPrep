{
 "nbformat": 4,
 "nbformat_minor": 2,
 "metadata": {
  "language_info": {
   "name": "python",
   "codemirror_mode": {
    "name": "ipython",
    "version": 3
   },
   "version": "3.6.10-final"
  },
  "orig_nbformat": 2,
  "file_extension": ".py",
  "mimetype": "text/x-python",
  "name": "python",
  "npconvert_exporter": "python",
  "pygments_lexer": "ipython3",
  "version": 3,
  "kernelspec": {
   "name": "python3",
   "display_name": "Python 3"
  }
 },
 "cells": [
  {
   "cell_type": "markdown",
   "metadata": {},
   "source": [
    "#### Description\n",
    "\n",
    "Design a stack that supports push, pop, top, and retrieving the minimum element in constant time.\n",
    "\n",
    "push(x) -- Push element x onto stack.\n",
    "\n",
    "pop() -- Removes the element on top of the stack.\n",
    "\n",
    "top() -- Get the top element.\n",
    "\n",
    "getMin() -- Retrieve the minimum element in the stack.\n",
    "\n"
   ]
  },
  {
   "cell_type": "markdown",
   "metadata": {},
   "source": [
    "#### Solution\n",
    "\n",
    "Push ```2*x - current_min``` if ```x < current_min``` and make ```current_min = x```\n",
    "\n",
    "and if ```popped < current_min``` then reset ```current_min = 2*current_min - popped``` as ```popped = 2*current_min - previous_min``` "
   ]
  },
  {
   "cell_type": "code",
   "execution_count": 1,
   "metadata": {},
   "outputs": [],
   "source": [
    "from typing import *\n",
    "\n",
    "\n",
    "class MinStack:\n",
    "    def __init__(self):\n",
    "        self.stack = []\n",
    "        self.glob_min = None\n",
    "\n",
    "    def push(self, num: int) -> None:\n",
    "        if not self.glob_min:\n",
    "            self.glob_min = num\n",
    "        elif num < self.glob_min:\n",
    "            actual = num\n",
    "            num = 2*num - self.glob_min\n",
    "            self.glob_min = actual\n",
    "\n",
    "        self.stack.append(num)\n",
    "        \n",
    "    def pop(self) -> int:\n",
    "        last = self.stack.pop()\n",
    "        if last < self.glob_min:\n",
    "            last = 2*self.glob_min - last\n",
    "            return_value = self.glob_min\n",
    "            self.glob_min = last\n",
    "            return return_value\n",
    "        # if there's no element left reset the glob_min to None\n",
    "        if not self.stack:\n",
    "            self.glob_min = None\n",
    "        return last\n",
    "\n",
    "    def top(self) -> int:\n",
    "        last = self.stack[-1]\n",
    "        if last < self.glob_min:\n",
    "            return self.glob_min\n",
    "        return last\n",
    "\n",
    "    def min(self) -> int:\n",
    "        return self.glob_min\n",
    "\n",
    "\n",
    "class Solution:\n",
    "    def minStack(self, nums: List[int], num_pops: int) -> List[int]:\n",
    "        min_stack = MinStack()\n",
    "        for num in nums:\n",
    "            min_stack.push(num)\n",
    "        return [min_stack.min() for i in range(num_pops) if min_stack.pop()]"
   ]
  },
  {
   "cell_type": "code",
   "execution_count": 2,
   "metadata": {},
   "outputs": [
    {
     "output_type": "stream",
     "name": "stdout",
     "text": "all pass\n"
    }
   ],
   "source": [
    "from utils import test, do_test\n",
    "\n",
    "\n",
    "tests = [\n",
    "    test([[1, 2, -1, -2, 3, 4], 3], [-2, -2, -1]),\n",
    "    test([[], 0], []),\n",
    "    test([[1, -2, -3, 10, 2, -4], 2], [-3, -3]),\n",
    "]\n",
    "\n",
    "do_test(tests, Solution.minStack)"
   ]
  }
 ]
}