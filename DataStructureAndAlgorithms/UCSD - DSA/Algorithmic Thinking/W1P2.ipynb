{
 "cells": [
  {
   "cell_type": "markdown",
   "metadata": {},
   "source": [
    "### Maximum Pairwise Product\n",
    "\n",
    "Find the maximum product of two distinct numbers in a sequence of non-negative integers. "
   ]
  },
  {
   "cell_type": "markdown",
   "metadata": {},
   "source": [
    "#### Naive Solution\n",
    "\n",
    "Complexity O(n^2)"
   ]
  },
  {
   "cell_type": "code",
   "execution_count": 14,
   "metadata": {},
   "outputs": [],
   "source": [
    "class Solution:\n",
    "    @staticmethod\n",
    "    def max_pair(numbers):\n",
    "        if len(numbers) == 0:\n",
    "            return float('nan'), float('nan')\n",
    "        maximum = float('-inf')\n",
    "        index1, index2 = -1, -1\n",
    "        for i in range(len(numbers)):\n",
    "            for j in range(i+1, len(numbers)):\n",
    "                if numbers[i] * numbers[j] > maximum:\n",
    "                    maximum = numbers[i] * numbers[j]\n",
    "                    index1 = i\n",
    "                    index2 = j\n",
    "        return numbers[index1], numbers[index2]"
   ]
  },
  {
   "cell_type": "code",
   "execution_count": 23,
   "metadata": {},
   "outputs": [
    {
     "name": "stdout",
     "output_type": "stream",
     "text": [
      "8.12 ms ± 807 µs per loop (mean ± std. dev. of 7 runs, 100 loops each)\n"
     ]
    }
   ],
   "source": [
    "%%timeit\n",
    "\n",
    "from random import randint\n",
    "Solution.max_pair([randint(1, 10000) for i in range(10000)])"
   ]
  },
  {
   "cell_type": "markdown",
   "metadata": {},
   "source": [
    "#### Improving solution\n",
    "\n",
    "1. Take out the max 2 O(n)"
   ]
  },
  {
   "cell_type": "code",
   "execution_count": 21,
   "metadata": {},
   "outputs": [],
   "source": [
    "class Solution:\n",
    "    @staticmethod\n",
    "    def max_pair(numbers):\n",
    "        if len(numbers) == 0:\n",
    "            return float('nan'), float('nan')\n",
    "        first, second = float('-inf'), float('-inf')\n",
    "        for number in numbers:\n",
    "            if number > first:\n",
    "                second = first\n",
    "                first = number\n",
    "        return first, second"
   ]
  },
  {
   "cell_type": "code",
   "execution_count": 24,
   "metadata": {},
   "outputs": [
    {
     "name": "stdout",
     "output_type": "stream",
     "text": [
      "1min 26s ± 4.54 s per loop (mean ± std. dev. of 7 runs, 1 loop each)\n"
     ]
    }
   ],
   "source": [
    "%%timeit\n",
    "from random import randint\n",
    "Solution.max_pair([randint(1, 10000) for i in range(100000000)])"
   ]
  },
  {
   "cell_type": "markdown",
   "metadata": {},
   "source": [
    "### Writing a function that takes multiple functions and same input and plots on a graph the running times"
   ]
  },
  {
   "cell_type": "code",
   "execution_count": 66,
   "metadata": {},
   "outputs": [
    {
     "data": {
      "image/png": "[encoded data removed]",
      "text/plain": [
       "<Figure size 432x288 with 1 Axes>"
      ]
     },
     "metadata": {
      "needs_background": "light"
     },
     "output_type": "display_data"
    }
   ],
   "source": [
    "import matplotlib.pyplot as plt \n",
    "from time import time, sleep\n",
    "\n",
    "\n",
    "def plot_time(inputs_and_sizes, *functions, outputs=None):\n",
    "    \"\"\"\n",
    "    inputs: list of dicts of arguments\n",
    "    outputs: list of outputs\n",
    "    \"\"\"\n",
    "    xs = []\n",
    "    ys_lst = [[] for i in range(len(functions))] \n",
    "    for _input in inputs_and_sizes:\n",
    "        xs.append(_input.pop('size'))\n",
    "        for idx, function in enumerate(functions):\n",
    "            start = time()\n",
    "            output = function(**_input)\n",
    "            end = time()\n",
    "            ys_lst[idx].append(end-start)\n",
    "    for ys, function in zip(ys_lst, functions):\n",
    "        plt.plot(xs, ys, label=function.__name__)\n",
    "    plt.legend()\n",
    "\n",
    "def func(x):\n",
    "    sleep(0.01*x)\n",
    "\n",
    "def func2(x):\n",
    "    sleep(0.01**x)\n",
    "plot_time(\n",
    "        ({'x': i, 'size': i} for i in range(10)),\n",
    "        func, func2\n",
    "         )"
   ]
  },
  {
   "cell_type": "markdown",
   "metadata": {},
   "source": [
    "### Writing a decorator that plots time for a single function"
   ]
  },
  {
   "cell_type": "code",
   "execution_count": 91,
   "metadata": {},
   "outputs": [
    {
     "data": {
      "image/png": "[encoded data removed]",
      "text/plain": [
       "<Figure size 432x288 with 1 Axes>"
      ]
     },
     "metadata": {
      "needs_background": "light"
     },
     "output_type": "display_data"
    }
   ],
   "source": [
    "from functools import wraps\n",
    "from time import time, sleep\n",
    "import matplotlib.pyplot as plt\n",
    "\n",
    "\n",
    "def plot_rt(inputs_and_sizes):\n",
    "    def outer(function):\n",
    "        @wraps(function)\n",
    "        def inner(*args, **kwargs):\n",
    "            x = []\n",
    "            y = []\n",
    "            for _input in inputs_and_sizes:\n",
    "                x.append(_input.pop('size'))\n",
    "                start = time()\n",
    "                function(**_input)\n",
    "                end = time()\n",
    "                y.append(end-start)\n",
    "            plt.plot(x, y)\n",
    "        return inner\n",
    "    return outer\n",
    "\n",
    "\n",
    "@plot_rt({'x': i, 'size': i} for i in range(10))\n",
    "def myfunc(x):\n",
    "    sleep(0.1)\n",
    "\n",
    "myfunc()"
   ]
  }
 ],
 "metadata": {
  "kernelspec": {
   "display_name": "Python 3",
   "language": "python",
   "name": "python3"
  },
  "language_info": {
   "codemirror_mode": {
    "name": "ipython",
    "version": 3
   },
   "file_extension": ".py",
   "mimetype": "text/x-python",
   "name": "python",
   "nbconvert_exporter": "python",
   "pygments_lexer": "ipython3",
   "version": "3.6.7"
  }
 },
 "nbformat": 4,
 "nbformat_minor": 4
}
