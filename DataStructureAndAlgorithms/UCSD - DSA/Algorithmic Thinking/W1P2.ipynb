{
 "cells": [
  {
   "cell_type": "markdown",
   "metadata": {},
   "source": [
    "### Maximum Pairwise Product\n",
    "\n",
    "Find the maximum product of two distinct numbers in a sequence of non-negative integers. "
   ]
  },
  {
   "cell_type": "markdown",
   "metadata": {},
   "source": [
    "#### Naive Solution\n",
    "\n",
    "Complexity O(n^2)"
   ]
  },
  {
   "cell_type": "code",
   "execution_count": 14,
   "metadata": {},
   "outputs": [],
   "source": [
    "class Solution:\n",
    "    @staticmethod\n",
    "    def max_pair(numbers):\n",
    "        if len(numbers) == 0:\n",
    "            return float('nan'), float('nan')\n",
    "        maximum = float('-inf')\n",
    "        index1, index2 = -1, -1\n",
    "        for i in range(len(numbers)):\n",
    "            for j in range(i+1, len(numbers)):\n",
    "                if numbers[i] * numbers[j] > maximum:\n",
    "                    maximum = numbers[i] * numbers[j]\n",
    "                    index1 = i\n",
    "                    index2 = j\n",
    "        return numbers[index1], numbers[index2]"
   ]
  },
  {
   "cell_type": "code",
   "execution_count": 23,
   "metadata": {},
   "outputs": [
    {
     "name": "stdout",
     "output_type": "stream",
     "text": [
      "8.12 ms ± 807 µs per loop (mean ± std. dev. of 7 runs, 100 loops each)\n"
     ]
    }
   ],
   "source": [
    "%%timeit\n",
    "\n",
    "from random import randint\n",
    "Solution.max_pair([randint(1, 10000) for i in range(10000)])"
   ]
  },
  {
   "cell_type": "markdown",
   "metadata": {},
   "source": [
    "#### Improving solution\n",
    "\n",
    "1. Take out the max 2 O(n)"
   ]
  },
  {
   "cell_type": "code",
   "execution_count": 21,
   "metadata": {},
   "outputs": [],
   "source": [
    "class Solution:\n",
    "    @staticmethod\n",
    "    def max_pair(numbers):\n",
    "        if len(numbers) == 0:\n",
    "            return float('nan'), float('nan')\n",
    "        first, second = float('-inf'), float('-inf')\n",
    "        for number in numbers:\n",
    "            if number > first:\n",
    "                second = first\n",
    "                first = number\n",
    "        return first, second"
   ]
  },
  {
   "cell_type": "code",
   "execution_count": 24,
   "metadata": {},
   "outputs": [
    {
     "name": "stdout",
     "output_type": "stream",
     "text": [
      "1min 26s ± 4.54 s per loop (mean ± std. dev. of 7 runs, 1 loop each)\n"
     ]
    }
   ],
   "source": [
    "%%timeit\n",
    "from random import randint\n",
    "Solution.max_pair([randint(1, 10000) for i in range(100000000)])"
   ]
  }
 ],
 "metadata": {
  "kernelspec": {
   "display_name": "Python 3",
   "language": "python",
   "name": "python3"
  },
  "language_info": {
   "codemirror_mode": {
    "name": "ipython",
    "version": 3
   },
   "file_extension": ".py",
   "mimetype": "text/x-python",
   "name": "python",
   "nbconvert_exporter": "python",
   "pygments_lexer": "ipython3",
   "version": "3.6.7"
  }
 },
 "nbformat": 4,
 "nbformat_minor": 4
}
