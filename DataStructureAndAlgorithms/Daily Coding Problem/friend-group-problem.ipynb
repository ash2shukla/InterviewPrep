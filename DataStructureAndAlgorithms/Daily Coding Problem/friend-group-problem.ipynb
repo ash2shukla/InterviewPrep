{
 "nbformat": 4,
 "nbformat_minor": 2,
 "metadata": {
  "language_info": {
   "name": "python",
   "codemirror_mode": {
    "name": "ipython",
    "version": 3
   },
   "version": "3.6.10-final"
  },
  "orig_nbformat": 2,
  "file_extension": ".py",
  "mimetype": "text/x-python",
  "name": "python",
  "npconvert_exporter": "python",
  "pygments_lexer": "ipython3",
  "version": 3,
  "kernelspec": {
   "name": "python3",
   "display_name": "Python 3"
  }
 },
 "cells": [
  {
   "cell_type": "markdown",
   "metadata": {},
   "source": [
    "#### Description\n",
    "\n",
    "\n",
    "A classroom consists of N students, whose friendships can be represented in an adjacency list. For example, the following descibes a situation where 0 is friends with 1 and 2, 3 is friends with 6 , and so on.\n",
    "\n",
    "{0: \\[1, 2\\], 1: \\[0, 5\\], 2: \\[0\\],\n",
    "\n",
    "3: \\[6\\], 4: \\[\\],\n",
    "\n",
    "5: \\[1\\]\n",
    ",\n",
    "6: \\[3\\]}\n",
    "\n",
    "Each student can be placed in a friend group, which can be defined as the transitive closure of that student friendship relations. In other words, this is the smallest set such that no student in the group has any friends outside this group. For the example above, the friend group would be {0, 1, 2, 5}, {3, 6}, {4}\n",
    "\n",
    "Given a friendship list such as the one above, determine the number of friend groups in the class."
   ]
  },
  {
   "cell_type": "code",
   "execution_count": 1,
   "metadata": {},
   "outputs": [],
   "source": [
    "from typing import *\n",
    "\n",
    "class Solution:\n",
    "    def dfs(self, graph: Dict)->List:\n",
    "        stack = []\n",
    "        visited = set()\n",
    "        res = []\n",
    "        for key in graph:\n",
    "            current = set()\n",
    "            if key not in visited:\n",
    "                stack = [key]\n",
    "            while stack:\n",
    "                current_node = stack.pop()\n",
    "                current.add(current_node)\n",
    "                visited.add(current_node)\n",
    "                for node in graph[current_node]:\n",
    "                    stack.append(node)\n",
    "            res.append(current)\n",
    "        return res"
   ]
  },
  {
   "cell_type": "code",
   "execution_count": 5,
   "metadata": {},
   "outputs": [
    {
     "output_type": "error",
     "ename": "TypeError",
     "evalue": "'type' object is not iterable",
     "traceback": [
      "\u001b[0;31m---------------------------------------------------------------------------\u001b[0m",
      "\u001b[0;31mTypeError\u001b[0m                                 Traceback (most recent call last)",
      "\u001b[0;32m<ipython-input-5-b07ed767f815>\u001b[0m in \u001b[0;36m<module>\u001b[0;34m\u001b[0m\n\u001b[1;32m      5\u001b[0m ]\n\u001b[1;32m      6\u001b[0m \u001b[0;34m\u001b[0m\u001b[0m\n\u001b[0;32m----> 7\u001b[0;31m \u001b[0mdo_test\u001b[0m\u001b[0;34m(\u001b[0m\u001b[0mtest\u001b[0m\u001b[0;34m,\u001b[0m \u001b[0mSolution\u001b[0m\u001b[0;34m.\u001b[0m\u001b[0mdfs\u001b[0m\u001b[0;34m)\u001b[0m\u001b[0;34m\u001b[0m\u001b[0;34m\u001b[0m\u001b[0m\n\u001b[0m",
      "\u001b[0;32m~/anaconda3/envs/inter/lib/python3.6/site-packages/utils/testing.py\u001b[0m in \u001b[0;36mdo_test\u001b[0;34m(tests, func)\u001b[0m\n\u001b[1;32m     13\u001b[0m \u001b[0;34m\u001b[0m\u001b[0m\n\u001b[1;32m     14\u001b[0m \u001b[0;32mdef\u001b[0m \u001b[0mdo_test\u001b[0m\u001b[0;34m(\u001b[0m\u001b[0mtests\u001b[0m\u001b[0;34m,\u001b[0m \u001b[0mfunc\u001b[0m\u001b[0;34m)\u001b[0m\u001b[0;34m:\u001b[0m\u001b[0;34m\u001b[0m\u001b[0;34m\u001b[0m\u001b[0m\n\u001b[0;32m---> 15\u001b[0;31m     \u001b[0;32mfor\u001b[0m \u001b[0margs\u001b[0m\u001b[0;34m,\u001b[0m \u001b[0mresult\u001b[0m \u001b[0;32min\u001b[0m \u001b[0mtests\u001b[0m\u001b[0;34m:\u001b[0m\u001b[0;34m\u001b[0m\u001b[0;34m\u001b[0m\u001b[0m\n\u001b[0m\u001b[1;32m     16\u001b[0m         \u001b[0mactual_result\u001b[0m \u001b[0;34m=\u001b[0m \u001b[0mfunc\u001b[0m\u001b[0;34m(\u001b[0m\u001b[0;32mNone\u001b[0m\u001b[0;34m,\u001b[0m \u001b[0;34m*\u001b[0m\u001b[0margs\u001b[0m\u001b[0;34m)\u001b[0m\u001b[0;34m\u001b[0m\u001b[0;34m\u001b[0m\u001b[0m\n\u001b[1;32m     17\u001b[0m \u001b[0;34m\u001b[0m\u001b[0m\n",
      "\u001b[0;31mTypeError\u001b[0m: 'type' object is not iterable"
     ]
    }
   ],
   "source": [
    "from utils import test, do_test\n",
    "\n",
    "tests = [\n",
    "    test([{0:[1,2],1:[0,5],2:[0,4],3:[],4:[2],5:[1]}],[{0,1,2,4,5},{3}])\n",
    "]\n",
    "\n",
    "do_test(tests, Solution.dfs)"
   ]
  }
 ]
}