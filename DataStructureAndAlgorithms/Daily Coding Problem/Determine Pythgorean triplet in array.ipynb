{
 "nbformat": 4,
 "nbformat_minor": 2,
 "metadata": {
  "language_info": {
   "name": "python",
   "codemirror_mode": {
    "name": "ipython",
    "version": 3
   },
   "version": "3.6.10-final"
  },
  "orig_nbformat": 2,
  "file_extension": ".py",
  "mimetype": "text/x-python",
  "name": "python",
  "npconvert_exporter": "python",
  "pygments_lexer": "ipython3",
  "version": 3,
  "kernelspec": {
   "name": "python3",
   "display_name": "Python 3"
  }
 },
 "cells": [
  {
   "cell_type": "markdown",
   "metadata": {},
   "source": [
    "#### Description\n",
    "\n",
    "Given an array of integers determne whether it contains a pythagorean triplet. Recall that a Pythagorean triplet (a,b,c) is defined by the question a^2 + b^2 = c^2 "
   ]
  },
  {
   "cell_type": "code",
   "execution_count": 20,
   "metadata": {},
   "outputs": [],
   "source": [
    "from typing import *\n",
    "\n",
    "class Solution:\n",
    "    def pythatriplet(self, nums: List) -> bool:\n",
    "        for i in range(len(nums)):\n",
    "            nums[i] = nums[i]*nums[i]\n",
    "        nums = sorted(nums)\n",
    "        for i in range(len(nums)-1):\n",
    "            for j in range(len(nums)):\n",
    "                if nums[i]+nums[j] in nums:\n",
    "                    return True\n",
    "        return False"
   ]
  },
  {
   "cell_type": "code",
   "execution_count": 21,
   "metadata": {},
   "outputs": [
    {
     "output_type": "stream",
     "name": "stdout",
     "text": "all pass\n"
    }
   ],
   "source": [
    "from utils import test, do_test\n",
    "\n",
    "tests = [\n",
    "    test([[3,1,4,6,5]],result = True),\n",
    "    test([[10,4,6,12,5]], result = False)\n",
    "]\n",
    "\n",
    "do_test(tests, Solution.pythatriplet)"
   ]
  }
 ]
}