{
 "nbformat": 4,
 "nbformat_minor": 2,
 "metadata": {
  "language_info": {
   "name": "python",
   "codemirror_mode": {
    "name": "ipython",
    "version": 3
   },
   "version": "3.8.2-final"
  },
  "orig_nbformat": 2,
  "file_extension": ".py",
  "mimetype": "text/x-python",
  "name": "python",
  "npconvert_exporter": "python",
  "pygments_lexer": "ipython3",
  "version": 3,
  "kernelspec": {
   "name": "python3",
   "display_name": "Python 3"
  }
 },
 "cells": [
  {
   "cell_type": "markdown",
   "metadata": {},
   "source": [
    "#### Description\n",
    "\n",
    "A fixed point in an array is an element whose value is equal to its index. Given a sorted array of distinct elements, return a fixed point, if one exists. Otherwise, return False.\n",
    "\n",
    "For example, given \\[-6, 0, 2, 40\\], you should return 2.\n",
    "\n",
    "Given \\[1, 5, 7, 8\\], you should return -1."
   ]
  },
  {
   "cell_type": "markdown",
   "metadata": {},
   "source": [
    "#### Logic\n",
    "If the array is sorted specified explicitly we can assume the optimized solution must involve binary search.\n",
    "\n",
    "if at an index the value is less than its index then it means before it all of the indeces have values less than this index because a value can not repeat ( mind that all elements are distinct ).\n",
    "\n",
    "Also if at an index the value is more than its index then it means after it all of the indeces have values greater than this index because value can not repeat.\n",
    "\n",
    "So if the value at mid is less than its index then see after the mid, otherwise see before mid."
   ]
  },
  {
   "cell_type": "code",
   "execution_count": 2,
   "metadata": {},
   "outputs": [],
   "source": [
    "from typing import *\n",
    "\n",
    "\n",
    "class Solution:\n",
    "    def fixedPoint(self, nums: List[int]) -> int:\n",
    "        start = 0\n",
    "        end = len(nums) - 1\n",
    "\n",
    "        while start <= end:\n",
    "            mid = ( start + end ) // 2\n",
    "            if nums[mid] == mid:\n",
    "                return mid\n",
    "            elif nums[mid] < mid:\n",
    "                start = mid + 1\n",
    "            else:\n",
    "                end = mid - 1\n",
    "        return -1"
   ]
  },
  {
   "cell_type": "code",
   "execution_count": 6,
   "metadata": {},
   "outputs": [
    {
     "output_type": "stream",
     "name": "stdout",
     "text": "all pass\n"
    }
   ],
   "source": [
    "import sys, os\n",
    "\n",
    "utils_path = os.path.abspath(os.path.join(os.path.curdir, '..', '..'))\n",
    "sys.path.append(utils_path)\n",
    "\n",
    "from utils import test, do_test\n",
    "\n",
    "\n",
    "tests = [\n",
    "    test([[-6, 0, 2, 40]], 2),\n",
    "    test([[1, 5, 7, 8]],-1)\n",
    "]\n",
    "\n",
    "do_test(tests, Solution.fixedPoint)"
   ]
  }
 ]
}