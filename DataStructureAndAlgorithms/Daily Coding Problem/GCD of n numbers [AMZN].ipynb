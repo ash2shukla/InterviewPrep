{
 "cells": [
  {
   "cell_type": "markdown",
   "metadata": {},
   "source": [
    "### Problem statement\n",
    "Given n numbers, find the greatest common denominator between them.\n",
    "For example, given the numbers [42, 56, 14], return 14.\n",
    "\n",
    "### Extra check - [Extended Euclidean Method ](https://www.youtube.com/watch?v=hB34-GSDT3k)\n",
    "*related to cryptography*"
   ]
  },
  {
   "cell_type": "markdown",
   "metadata": {},
   "source": [
    "#### Brute-force approach\n",
    "\n",
    "Greatest common denominator is the biggest number which can divie all the numbers leaving remainder 0. Mind that GCD(0,0) is undefined and GCD(k,0) = k\n",
    "\n",
    "ie. a simple logic can be to take max out of all the numbers then iterate on by one backwards checking if it divides all the numbers with 0 remainder.\n",
    "\n",
    "\n",
    "#### Complexity\n",
    "The loop will maximum iterate MAX number times.\n",
    "##### O(MAX(numbers))"
   ]
  },
  {
   "cell_type": "code",
   "execution_count": 13,
   "metadata": {},
   "outputs": [],
   "source": [
    "class Solution:\n",
    "    def gcd(self, numbers) -> int:\n",
    "        MAX = max(numbers)\n",
    "        if MAX == 0:\n",
    "            return float('nan')\n",
    "        for i in range(MAX, -1, -1):\n",
    "            if all(number%i == 0 for number in numbers):\n",
    "                return i\n",
    "        # if no common divisor is found then its if both numbers are non zero\n",
    "        return 1"
   ]
  },
  {
   "cell_type": "code",
   "execution_count": 17,
   "metadata": {},
   "outputs": [
    {
     "name": "stdout",
     "output_type": "stream",
     "text": [
      "all pass\n"
     ]
    }
   ],
   "source": [
    "from collections import namedtuple\n",
    "from math import isnan\n",
    "\n",
    "\n",
    "test = namedtuple('test', ['args', 'result'])\n",
    "tests = [\n",
    "    test(args=[[0,1]], result=1),\n",
    "    test(args=[[2,9]], result=1),\n",
    "    test(args=[[42,14,16]], result=2),\n",
    "    test(args=[[0, 0]], result=float('nan'))\n",
    "]\n",
    "\n",
    "for args, result in tests:\n",
    "    actual_result = Solution.gcd(None, *args)\n",
    "    if isnan(result):\n",
    "        assert isnan(actual_result), f'Expected nan but : actual {actual_result}'\n",
    "    else:\n",
    "        assert actual_result == result, f'Error: {args} Expected {result} : actual {actual_result}'\n",
    "\n",
    "else:\n",
    "    print('all pass')"
   ]
  },
  {
   "cell_type": "markdown",
   "metadata": {},
   "source": [
    "#### Euclidean Method for finding GCD\n",
    "\n",
    "Lets say we have a number A and it is divided by some number D giving quotient Q and remainder R\n",
    "\n",
    "then we can say that A = D\\*Q + R\n",
    "\n",
    "as per the definition if R = 0 then GCD(A, D) = D\n",
    "\n",
    "but if R > 0 then it definitely means that GCD(A, D) < D\n",
    "\n",
    "and it will be less than D because GCD(A, D) needs to divide the R as well with remainer 0.\n",
    "\n",
    "ie. GCD(A, D) = GCD(D, R)\n",
    "\n",
    "so we just need to keep finding the GCD till we land on R = 0."
   ]
  },
  {
   "cell_type": "markdown",
   "metadata": {},
   "source": [
    "#### Complexity\n",
    "\n",
    "For any two consecutive Fibonacci numbers this algorithm takes **O(n)** time to compute.\n",
    "\n",
    "\n",
    "1,2,3,5,8,13\n",
    "\n",
    "(13,8)\n",
    "(8,5)\n",
    "(5,3)\n",
    "(3,2)\n",
    "(2,1) = 1\n",
    "\n",
    "ie. if we give Fib(N), Fib(N-1) to be computed then it will go Fib(N-1), Fib(N-2) etc.. till Fib(N - x) = 1\n",
    "\n",
    "so if N = index of fibonacci number nearest to a,b then O(N) will be complexity of algorithm. "
   ]
  },
  {
   "cell_type": "code",
   "execution_count": 29,
   "metadata": {},
   "outputs": [
    {
     "data": {
      "text/plain": [
       "2"
      ]
     },
     "execution_count": 29,
     "metadata": {},
     "output_type": "execute_result"
    }
   ],
   "source": [
    "def GCD(A, D):\n",
    "    if A % D == 0:\n",
    "        return D\n",
    "    else:\n",
    "        return GCD(D, A % D)\n",
    "GCD(14, 60)"
   ]
  },
  {
   "cell_type": "markdown",
   "metadata": {},
   "source": [
    "In order to find the GCD of n numbers we can use the property\n",
    "\n",
    "##### gcd(a, b, c) = gcd(a, gcd(b, c))"
   ]
  },
  {
   "cell_type": "code",
   "execution_count": 51,
   "metadata": {},
   "outputs": [],
   "source": [
    "from math import isnan\n",
    "\n",
    "\n",
    "class Solution:\n",
    "    @staticmethod\n",
    "    def GCD(A, D):\n",
    "        if A == D == 0:\n",
    "            return float('nan')\n",
    "\n",
    "        if A % D == 0:\n",
    "            return D\n",
    "        else:\n",
    "            return GCD(D, A % D)\n",
    "\n",
    "    def gcd(self, numbers) -> int:\n",
    "        result = numbers[0]\n",
    "        \n",
    "        for number in numbers[1:]:\n",
    "            result = Solution.GCD(result, number)\n",
    "            \n",
    "            if isnan(result):\n",
    "                return result\n",
    "\n",
    "        return result"
   ]
  },
  {
   "cell_type": "code",
   "execution_count": 52,
   "metadata": {},
   "outputs": [
    {
     "name": "stdout",
     "output_type": "stream",
     "text": [
      "all pass\n"
     ]
    }
   ],
   "source": [
    "from collections import namedtuple\n",
    "from math import isnan\n",
    "\n",
    "\n",
    "test = namedtuple('test', ['args', 'result'])\n",
    "tests = [\n",
    "    test(args=[[0,1]], result=1),\n",
    "    test(args=[[2,9]], result=1),\n",
    "    test(args=[[42,14,16]], result=2),\n",
    "    test(args=[[0, 0, 1, 2]], result=float('nan'))\n",
    "]\n",
    "\n",
    "for args, result in tests:\n",
    "    actual_result = Solution.gcd(None, *args)\n",
    "    if isnan(result):\n",
    "        assert isnan(actual_result), f'Expected nan but : actual {actual_result}'\n",
    "    else:\n",
    "        assert actual_result == result, f'Error: {args} Expected {result} : actual {actual_result}'\n",
    "\n",
    "else:\n",
    "    print('all pass')"
   ]
  }
 ],
 "metadata": {
  "kernelspec": {
   "display_name": "Python 3",
   "language": "python",
   "name": "python3"
  },
  "language_info": {
   "codemirror_mode": {
    "name": "ipython",
    "version": 3
   },
   "file_extension": ".py",
   "mimetype": "text/x-python",
   "name": "python",
   "nbconvert_exporter": "python",
   "pygments_lexer": "ipython3",
   "version": "3.6.7"
  }
 },
 "nbformat": 4,
 "nbformat_minor": 4
}
