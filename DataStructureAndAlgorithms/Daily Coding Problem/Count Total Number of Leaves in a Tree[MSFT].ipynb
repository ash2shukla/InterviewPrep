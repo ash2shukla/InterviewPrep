{
 "nbformat": 4,
 "nbformat_minor": 2,
 "metadata": {
  "language_info": {
   "name": "python",
   "codemirror_mode": {
    "name": "ipython",
    "version": 3
   },
   "version": "3.8.2-final"
  },
  "orig_nbformat": 2,
  "file_extension": ".py",
  "mimetype": "text/x-python",
  "name": "python",
  "npconvert_exporter": "python",
  "pygments_lexer": "ipython3",
  "version": 3,
  "kernelspec": {
   "name": "python3",
   "display_name": "Python 3"
  }
 },
 "cells": [
  {
   "cell_type": "markdown",
   "metadata": {},
   "source": [
    "#### Description\n",
    "Given a binary tree count the total number of leaves in it."
   ]
  },
  {
   "cell_type": "code",
   "execution_count": 1,
   "metadata": {},
   "outputs": [],
   "source": [
    "class Solution:\n",
    "    def countLeaves(self, root):\n",
    "        leaves = 0\n",
    "        if root is None:\n",
    "            return leaves\n",
    "        stack = [root]\n",
    "        while stack:\n",
    "            popped = stack.pop()\n",
    "            if popped.left is None and popped.right is None:\n",
    "                leaves += 1\n",
    "            if popped.left:\n",
    "                stack.append(popped.left)\n",
    "            if popped.right:\n",
    "                stack.append(popped.right)\n",
    "        return leaves"
   ]
  },
  {
   "cell_type": "code",
   "execution_count": 4,
   "metadata": {},
   "outputs": [
    {
     "output_type": "stream",
     "name": "stdout",
     "text": "all pass\n"
    }
   ],
   "source": [
    "from utils import do_test, test, create_btree, treenode\n",
    "\n",
    "tests = [\n",
    "    test(\n",
    "        args=[\n",
    "            create_btree(\n",
    "                [\n",
    "                    treenode(value=1, parent_index=-1, alignment=None),\n",
    "                    treenode(value=2, parent_index=0, alignment='left'),\n",
    "                    treenode(value=3, parent_index=0, alignment='right'),\n",
    "                    treenode(value=4, parent_index=1, alignment='left'),\n",
    "                    treenode(value=4, parent_index=3, alignment='left')\n",
    "                ]\n",
    "            )\n",
    "        ],\n",
    "        result=2\n",
    "    )\n",
    "]\n",
    "\n",
    "do_test(tests, Solution.countLeaves)"
   ]
  }
 ]
}