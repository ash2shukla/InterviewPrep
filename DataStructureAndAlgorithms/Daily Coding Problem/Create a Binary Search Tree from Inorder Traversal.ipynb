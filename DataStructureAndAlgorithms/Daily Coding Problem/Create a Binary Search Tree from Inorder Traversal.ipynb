{
 "nbformat": 4,
 "nbformat_minor": 2,
 "metadata": {
  "language_info": {
   "name": "python",
   "codemirror_mode": {
    "name": "ipython",
    "version": 3
   },
   "version": "3.8.2-final"
  },
  "orig_nbformat": 2,
  "file_extension": ".py",
  "mimetype": "text/x-python",
  "name": "python",
  "npconvert_exporter": "python",
  "pygments_lexer": "ipython3",
  "version": 3,
  "kernelspec": {
   "name": "python3",
   "display_name": "Python 3"
  }
 },
 "cells": [
  {
   "cell_type": "markdown",
   "metadata": {},
   "source": [
    "#### Description\n",
    "```\n",
    "Construct Binary Search Tree from Preorder Traversal\n",
    "Solution\n",
    "Return the root node of a binary search tree that matches the given preorder traversal.\n",
    "\n",
    "(Recall that a binary search tree is a binary tree where for every node,\n",
    "any descendant of node.left has a value < node.val, and any descendant of node.right has a value > node.val.\n",
    "Also recall that a preorder traversal displays the value of the node first, then traverses node.left, then traverses node.right.)\n",
    "\n",
    " \n",
    "\n",
    "Example 1:\n",
    "\n",
    "Input: [8,5,1,7,10,12]\n",
    "Output:\n",
    "````\n",
    " ![bintree](https://assets.leetcode.com/uploads/2019/03/06/1266.png)\n",
    "\n",
    "```\n",
    "Note: \n",
    "\n",
    "1 <= preorder.length <= 100\n",
    "The values of preorder are distinct.\n",
    "```"
   ]
  },
  {
   "cell_type": "code",
   "execution_count": 1,
   "metadata": {},
   "outputs": [],
   "source": [
    "from utils import TreeNode\n",
    "from typing import *\n",
    "\n",
    "\n",
    "class Solution:\n",
    "    def bstFromPreorder(self, preorder: List[int]) -> TreeNode:\n",
    "        root = None\n",
    "        for node in preorder:\n",
    "            # create a node object\n",
    "            current = TreeNode(node)\n",
    "            node_iter = root\n",
    "            parent_iter = None\n",
    "            \n",
    "            # insert the node on the correct position\n",
    "            while node_iter:\n",
    "                parent_iter = node_iter\n",
    "                if current.val < node_iter.val:\n",
    "                    node_iter = node_iter.left\n",
    "                else:\n",
    "                    node_iter = node_iter.right\n",
    "            if parent_iter is None:\n",
    "                root = current\n",
    "            else:\n",
    "                if current.val > parent_iter.val:\n",
    "                    parent_iter.right = current\n",
    "                else:\n",
    "                    parent_iter.left = current\n",
    "        return root"
   ]
  },
  {
   "cell_type": "code",
   "execution_count": 7,
   "metadata": {},
   "outputs": [
    {
     "output_type": "stream",
     "name": "stdout",
     "text": "all pass\n"
    }
   ],
   "source": [
    "from utils import do_test, test, treenode, create_btree\n",
    "\n",
    "\n",
    "tests = [\n",
    "    test(\n",
    "    args=[[8,5,1,7,10,12]],\n",
    "    result=[\n",
    "        treenode(value=8, parent_index=None, alignment=None),\n",
    "        treenode(value=5, parent_index=0, alignment=\"left\"),\n",
    "        treenode(value=10, parent_index=0, alignment=\"right\"),\n",
    "        treenode(value=1, parent_index=1, alignment=\"left\"),\n",
    "        treenode(value=7, parent_index=1, alignment=\"right\"),\n",
    "        treenode(value=12, parent_index=2, alignment=\"right\")\n",
    "    ]),\n",
    "    test(\n",
    "    args=[[8]],\n",
    "    result=[\n",
    "        treenode(value=8, parent_index=None, alignment=None)\n",
    "    ]),\n",
    "    test(\n",
    "    args=[[]],\n",
    "    result=None\n",
    "    )\n",
    "]\n",
    "\n",
    "do_test(tests, Solution.bstFromPreorder)"
   ]
  }
 ]
}