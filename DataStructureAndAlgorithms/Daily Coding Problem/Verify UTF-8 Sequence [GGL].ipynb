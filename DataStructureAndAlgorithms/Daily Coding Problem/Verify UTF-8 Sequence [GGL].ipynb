{
 "nbformat": 4,
 "nbformat_minor": 2,
 "metadata": {
  "language_info": {
   "name": "python",
   "codemirror_mode": {
    "name": "ipython",
    "version": 3
   },
   "version": "3.6.10-final"
  },
  "orig_nbformat": 2,
  "file_extension": ".py",
  "mimetype": "text/x-python",
  "name": "python",
  "npconvert_exporter": "python",
  "pygments_lexer": "ipython3",
  "version": 3,
  "kernelspec": {
   "name": "python3",
   "display_name": "Python 3"
  }
 },
 "cells": [
  {
   "cell_type": "markdown",
   "metadata": {},
   "source": [
    "#### Description\n",
    "\n",
    "UTF-8 is a character encoding that maps each symbol to one, two, three, or four bytes.\n",
    "\n",
    "For example, the Euro sign, €, corresponds to the three bytes 11100010 10000010 10101100. The rules for mapping characters are as \n",
    "follows:\n",
    "\n",
    "For a single-byte character, the first bit must be zero.\n",
    "\n",
    "For an n-byte character, the first byte starts with n ones and a zero. The other n - 1 bytes all start with 10.\n",
    "\n",
    "Visually, this can be represented as follows.\n",
    "\n",
    " Bytes   |           Byte format\n",
    "\n",
    "-----------------------------------------------\n",
    "   1     | 0xxxxxxx\n",
    "\n",
    "   2     | 110xxxxx 10xxxxxx\n",
    "\n",
    "   3     | 1110xxxx 10xxxxxx 10xxxxxx\n",
    "\n",
    "   4     | 11110xxx 10xxxxxx 10xxxxxx 10xxxxxx\n",
    "\n",
    "Write a program that takes in an array of integers representing byte values, and returns whether it is a valid UTF-8 encoding."
   ]
  },
  {
   "cell_type": "code",
   "execution_count": 17,
   "metadata": {},
   "outputs": [],
   "source": [
    "from typing import *\n",
    "\n",
    "\n",
    "class Solution:\n",
    "    def validateUTF8(self, nums: List[int]) -> bool:\n",
    "        if len(nums) == 1:\n",
    "            return nums[0] & 0b10000000 == 0\n",
    "        elif len(nums) in range(2, 5):\n",
    "            first_byte = nums[0] & sum(2**i for i in range(7, 7-len(nums)-1, -1)) == sum(2**i for i in range(7, 7-len(nums), -1))\n",
    "            other_bytes = all(nums[i] & 0b11000000 == 0b10000000 for i in range(1, len(nums)))\n",
    "            return first_byte and other_bytes\n",
    "        else:\n",
    "            return False"
   ]
  },
  {
   "cell_type": "code",
   "execution_count": 18,
   "metadata": {},
   "outputs": [
    {
     "output_type": "stream",
     "name": "stdout",
     "text": "all pass\n"
    }
   ],
   "source": [
    "from utils import do_test, test\n",
    "\n",
    "tests = [\n",
    "    test(args=[[0b01010101]], result=True),\n",
    "    test(args=[[0b11011101]], result=False),\n",
    "    test(args=[[0b11010101, 0b10101110]], result=True),\n",
    "    test(args=[[0b11010101, 0b11101110]], result=False),\n",
    "    test(args=[[0b11110100, 0b10101110, 0b10101110, 0b10101110]], result=True)\n",
    "]\n",
    "\n",
    "do_test(tests, Solution.validateUTF8)"
   ]
  }
 ]
}