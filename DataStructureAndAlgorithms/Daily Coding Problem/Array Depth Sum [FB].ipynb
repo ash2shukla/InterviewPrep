{
 "nbformat": 4,
 "nbformat_minor": 2,
 "metadata": {
  "language_info": {
   "name": "python",
   "codemirror_mode": {
    "name": "ipython",
    "version": 3
   },
   "version": "3.8.2-final"
  },
  "orig_nbformat": 2,
  "file_extension": ".py",
  "mimetype": "text/x-python",
  "name": "python",
  "npconvert_exporter": "python",
  "pygments_lexer": "ipython3",
  "version": 3,
  "kernelspec": {
   "name": "python3",
   "display_name": "Python 3"
  }
 },
 "cells": [
  {
   "cell_type": "markdown",
   "metadata": {},
   "source": [
    "#### Description\n",
    "```\n",
    "Return the sum of an array that contains either numbers or other arrays of numbers, and multiply the total of each array by its nested depth\n",
    "\n",
    "[1, 2, 3, 4, [1, 2, 3, 4, [1, 2, 3, 4]]]\n",
    "\n",
    "should return \n",
    "\n",
    "(1+2+3+4)*1 + ( 1 + 2 + 3 + 4) * 2 + ( 1 + 2 + 3 + 4) * 3\n",
    "```"
   ]
  },
  {
   "cell_type": "code",
   "execution_count": 6,
   "metadata": {},
   "outputs": [],
   "source": [
    "class Solution:\n",
    "    def depthSum(self, nums):\n",
    "        stack = [(nums, 1)]\n",
    "        result = 0\n",
    "        while stack:\n",
    "            current_array, current_depth = stack.pop()\n",
    "            current_sum = 0\n",
    "            for num in current_array:\n",
    "                if isinstance(num, list):\n",
    "                    stack.append((num, current_depth+1))\n",
    "                else:\n",
    "                    current_sum += num\n",
    "            result += current_sum * current_depth\n",
    "        return result"
   ]
  },
  {
   "cell_type": "code",
   "execution_count": 9,
   "metadata": {},
   "outputs": [
    {
     "output_type": "stream",
     "name": "stdout",
     "text": "all pass\n"
    }
   ],
   "source": [
    "from utils import do_test, test\n",
    "\n",
    "tests = [\n",
    "    test(args=[[1, 2, 3, 4, [1, 2, 3, 4, [1, 2, 3, 4]]]], result=60),\n",
    "    test(args=[[1, 2, 3, 4, [1, 2, 3, 4, [1, [2], [3, [4]]]], 5, 6]], result=84)\n",
    "]\n",
    "\n",
    "do_test(tests, Solution.depthSum)"
   ]
  }
 ]
}