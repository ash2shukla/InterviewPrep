{
 "nbformat": 4,
 "nbformat_minor": 2,
 "metadata": {
  "language_info": {
   "name": "python",
   "codemirror_mode": {
    "name": "ipython",
    "version": 3
   },
   "version": "3.6.10-final"
  },
  "orig_nbformat": 2,
  "file_extension": ".py",
  "mimetype": "text/x-python",
  "name": "python",
  "npconvert_exporter": "python",
  "pygments_lexer": "ipython3",
  "version": 3,
  "kernelspec": {
   "name": "python3",
   "display_name": "Python 3"
  }
 },
 "cells": [
  {
   "cell_type": "markdown",
   "metadata": {},
   "source": [
    "#### Description\n",
    "\n",
    "You are given a string s containing lowercase English letters, and a matrix shift, where shift\\[i\\] = \\[direction, amount\\]:\n",
    "\n",
    "direction can be 0 (for left shift) or 1 (for right shift). \n",
    "amount is the amount by which string s is to be shifted.\n",
    "A left shift by 1 means remove the first character of s and append it to the end.\n",
    "Similarly, a right shift by 1 means remove the last character of s and add it to the beginning.\n",
    "Return the final string after all operations.\n",
    "\n",
    " \n",
    "\n",
    "Example 1:\n",
    "\n",
    "Input: s = \"abc\", shift = \\[\\[0,1\\],\\[1,2\\]\\]\n",
    "Output: \"cab\"\n",
    "Explanation: \n",
    "\\[0,1\\] means shift to left by 1. \"abc\" -> \"bca\"\n",
    "\\[1,2\\] means shift to right by 2. \"bca\" -> \"cab\"\n",
    "Example 2:\n",
    "\n",
    "Input: s = \"abcdefg\", shift = \\[\\[1,1\\],\\[1,1\\],\\[0,2\\],\\[1,3\\]\\]\n",
    "Output: \"efgabcd\"\n",
    "Explanation:  \n",
    "\\[1,1\\] means shift to right by 1. \"abcdefg\" -> \"gabcdef\"\n",
    "\\[1,1\\] means shift to right by 1. \"gabcdef\" -> \"fgabcde\"\n",
    "\\[0,2\\] means shift to left by 2. \"fgabcde\" -> \"abcdefg\"\n",
    "\\[1,3\\] means shift to right by 3. \"abcdefg\" -> \"efgabcd\"\n",
    " \n",
    "\n",
    "Constraints:\n",
    "\n",
    "1 <= s.length <= 100\n",
    "s only contains lower case English letters.\n",
    "1 <= shift.length <= 100\n",
    "shift\\[i\\].length == 2\n",
    "0 <= shift\\[i\\]\\[0\\] <= 1\n",
    "0 <= shift\\[i\\]\\[1\\] <= 100"
   ]
  },
  {
   "cell_type": "code",
   "execution_count": 1,
   "metadata": {},
   "outputs": [],
   "source": [
    "from typing import *\n",
    "\n",
    "class Solution:\n",
    "    def stringShift(self, s: str, shift: List[List[int]]) -> str:\n",
    "        temp = ''\n",
    "        n = len(s)\n",
    "        for i in shift:\n",
    "            if i[0]==1:\n",
    "                temp = s[n-i[1]:n]\n",
    "                s = s[0:n-i[1]]\n",
    "                s = temp+s\n",
    "            else:\n",
    "                temp = s[0:i[1]]\n",
    "                s = s[i[1]:n]\n",
    "                s = s+temp\n",
    "        return s\n",
    ""
   ]
  },
  {
   "cell_type": "code",
   "execution_count": 3,
   "metadata": {},
   "outputs": [
    {
     "output_type": "stream",
     "name": "stdout",
     "text": "all pass\n"
    }
   ],
   "source": [
    "from utils import test, do_test\n",
    "\n",
    "tests = [\n",
    "    test([\"abcdefg\",[[1,1],[1,1],[0,2],[1,3]]],\"efgabcd\")\n",
    "]\n",
    "\n",
    "do_test(tests, Solution.stringShift)"
   ]
  }
 ]
}