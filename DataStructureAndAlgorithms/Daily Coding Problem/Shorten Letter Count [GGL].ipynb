{
 "nbformat": 4,
 "nbformat_minor": 2,
 "metadata": {
  "language_info": {
   "name": "python",
   "codemirror_mode": {
    "name": "ipython",
    "version": 3
   },
   "version": "3.8.2-final"
  },
  "orig_nbformat": 2,
  "file_extension": ".py",
  "mimetype": "text/x-python",
  "name": "python",
  "npconvert_exporter": "python",
  "pygments_lexer": "ipython3",
  "version": 3,
  "kernelspec": {
   "name": "python3",
   "display_name": "Python 3"
  }
 },
 "cells": [
  {
   "cell_type": "markdown",
   "metadata": {},
   "source": [
    "#### Description\n",
    "```\n",
    "Write a function that takes an array of words and returns their shortened letter-count version,\n",
    "\"google\" g4e If the shortened version is not unique, expand out 1 letter at a time.\n",
    "\n",
    "Example 1.\n",
    "for [\"google\", \"gogole\", \"word\"]\n",
    "enter [\"g4e\", \"go3e\", \"w2d\"]\n",
    "```"
   ]
  },
  {
   "cell_type": "code",
   "execution_count": 27,
   "metadata": {},
   "outputs": [],
   "source": [
    "class Solution:\n",
    "    def shortenLetterCount(self, strings):\n",
    "        seen = {}\n",
    "        for string in strings:\n",
    "            start = 0\n",
    "            end = len(string) - 1\n",
    "            if len(string) <= 2:\n",
    "                seen[string] = None\n",
    "                continue\n",
    "            short_key = string[:start+1] + string[end]\n",
    "            short_length = len(string) - 2\n",
    "            while short_key in seen and seen[short_key] == short_length:\n",
    "                start += 1\n",
    "                short_length -= 1\n",
    "                if short_length == 0:\n",
    "                    break\n",
    "                short_key = string[:start+1] + string[end]\n",
    "            seen[short_key] = short_length\n",
    "        result = []\n",
    "        for key, value in seen.items():\n",
    "            if value:\n",
    "                result.append(key[:-1] + str(value) + key[-1])\n",
    "            else:\n",
    "                result.append(key)\n",
    "        return result"
   ]
  },
  {
   "cell_type": "code",
   "execution_count": 28,
   "metadata": {},
   "outputs": [
    {
     "output_type": "stream",
     "name": "stdout",
     "text": "all pass\n"
    }
   ],
   "source": [
    "from utils import do_test, test\n",
    "\n",
    "\n",
    "tests = [\n",
    "    test(args=[[\"google\", \"gogole\", \"word\"]], result=[\"g4e\", \"go3e\", \"w2d\"]),\n",
    "    test(args=[[\"a\", \"b\", \"c\"]], result=[\"a\", \"b\", \"c\"])\n",
    "]\n",
    "\n",
    "do_test(tests, Solution.shortenLetterCount)"
   ]
  }
 ]
}